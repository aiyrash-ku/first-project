{
 "cells": [
  {
   "cell_type": "markdown",
   "metadata": {},
   "source": [
    "<div style=\"padding: 30px 25px; border: 2px #6495ed solid\">\n",
    "    \n",
    "<b>Привет!</b>\n",
    "\n",
    "Меня зовут Алексей Косенко, и я буду проверять твой проект.\n",
    "    \n",
    "Предлагаю общаться на «<b>ты</b>», но если это неудобно — обязательно сообщи об этом.\n",
    "    \n",
    "Ниже ты увидишь мои комментарии, выделенные разным цветом:\n",
    "    \n",
    "<div class=\"alert alert-success\">\n",
    "<h2>Комментарий ревьюера<a class=\"tocSkip\"></a></h2>\n",
    "\n",
    "<b>Отлично!</b> ✔️: все ок, продолжай в том же духе :)\n",
    "\n",
    "</div>\n",
    "<div class=\"alert alert-warning\">\n",
    "<h2>Комментарий ревьюера<a class=\"tocSkip\"></a></h2>\n",
    "    \n",
    "<b>Есть совет</b> ⚠️: так выделены некритичные замечания или советы, которые смогут улучшить твой проект.\n",
    "\n",
    "</div>\n",
    "<div class=\"alert alert-danger\">\n",
    "<h2>Комментарий ревьюера<a class=\"tocSkip\"></a></h2>\n",
    "\n",
    "<b>Нужно доработать</b> ❌: так выделены важные замечания — без их исправления проект не может быть принят.\n",
    "    \n",
    "</div>\n",
    "\n",
    "Будет здорово, если ты будешь участвовать в диалоге, а свои вопросы, комментарии и изменения в проекте тоже будешь выделять, например, вот так:\n",
    "    \n",
    "<div class=\"alert alert-info\">\n",
    "    <b>Комментарий студента:</b> твой комментарий\n",
    "</div>\n",
    "    \n",
    "Пожалуйста, не перемещай и не удаляй мои комментарии, это усложнит повторную проверку.\n",
    "    \n",
    "</div>"
   ]
  },
  {
   "cell_type": "code",
   "execution_count": null,
   "metadata": {},
   "outputs": [],
   "source": [
    "test"
   ]
  },
  {
   "cell_type": "markdown",
   "metadata": {},
   "source": [
    "<div style=\"padding: 30px 25px; border: 2px #6495ed solid\">\n",
    "    \n",
    "<b>Еще раз привет!</b>\n",
    "\n",
    "Спасибо, что доделала работу, оформление комментариев остается тем же, только обозначим номер итерации: v2\n",
    "    \n",
    "</div>"
   ]
  },
  {
   "cell_type": "markdown",
   "metadata": {
    "toc": true
   },
   "source": [
    "<h1>Содержание<span class=\"tocSkip\"></span></h1>\n",
    "<div class=\"toc\"><ul class=\"toc-item\"><li><span><a href=\"#Подготовка-данных\" data-toc-modified-id=\"Подготовка-данных-1\"><span class=\"toc-item-num\">1&nbsp;&nbsp;</span>Подготовка данных</a></span></li><li><span><a href=\"#Исследование-задачи\" data-toc-modified-id=\"Исследование-задачи-2\"><span class=\"toc-item-num\">2&nbsp;&nbsp;</span>Исследование задачи</a></span></li><li><span><a href=\"#Борьба-с-дисбалансом\" data-toc-modified-id=\"Борьба-с-дисбалансом-3\"><span class=\"toc-item-num\">3&nbsp;&nbsp;</span>Борьба с дисбалансом</a></span></li><li><span><a href=\"#Тестирование-модели\" data-toc-modified-id=\"Тестирование-модели-4\"><span class=\"toc-item-num\">4&nbsp;&nbsp;</span>Тестирование модели</a></span></li><li><span><a href=\"#Чек-лист-готовности-проекта\" data-toc-modified-id=\"Чек-лист-готовности-проекта-5\"><span class=\"toc-item-num\">5&nbsp;&nbsp;</span>Чек-лист готовности проекта</a></span></li></ul></div>"
   ]
  },
  {
   "cell_type": "markdown",
   "metadata": {},
   "source": [
    "# Отток клиентов"
   ]
  },
  {
   "cell_type": "markdown",
   "metadata": {},
   "source": [
    "Из «Бета-Банка» стали уходить клиенты. Каждый месяц. Немного, но заметно. Банковские маркетологи посчитали: сохранять текущих клиентов дешевле, чем привлекать новых.\n",
    "\n",
    "Нужно спрогнозировать, уйдёт клиент из банка в ближайшее время или нет. Вам предоставлены исторические данные о поведении клиентов и расторжении договоров с банком. \n",
    "\n",
    "Постройте модель с предельно большим значением *F1*-меры. Чтобы сдать проект успешно, нужно довести метрику до 0.59. Проверьте *F1*-меру на тестовой выборке самостоятельно.\n",
    "\n",
    "Дополнительно измеряйте *AUC-ROC*, сравнивайте её значение с *F1*-мерой.\n",
    "\n",
    "Источник данных: [https://www.kaggle.com/barelydedicated/bank-customer-churn-modeling](https://www.kaggle.com/barelydedicated/bank-customer-churn-modeling)"
   ]
  },
  {
   "cell_type": "markdown",
   "metadata": {},
   "source": [
    "## Подготовка данных"
   ]
  },
  {
   "cell_type": "markdown",
   "metadata": {},
   "source": [
    "В нашем распоряжении данные банка о клиентах, цель работы - спрогнозировать, уйдет ли клиент, построить модель с наибольшим значением F-1 меры. \n",
    "Для решения задачи предстоит выполнить следующие шаги:\n",
    "1) Загрузить и подготовить данные.\n",
    "2) Исследовать баланс классов, обучить модель без учёта дисбаланса.\n",
    "3) Улучшить качество модели, учитывая дисбаланс классов. Обучить разные модели и найти лучшую.\n",
    "4) Провести финальное тестирование."
   ]
  },
  {
   "cell_type": "code",
   "execution_count": 1,
   "metadata": {},
   "outputs": [],
   "source": [
    "import pandas as pd\n",
    "import numpy as np\n",
    "from sklearn.preprocessing import StandardScaler \n",
    "from sklearn.model_selection import train_test_split\n",
    "pd.options.mode.chained_assignment = None\n",
    "from sklearn.tree import DecisionTreeClassifier\n",
    "from sklearn.metrics import accuracy_score\n",
    "from sklearn.ensemble import RandomForestClassifier \n",
    "from sklearn.linear_model import LogisticRegression \n",
    "from sklearn.metrics import accuracy_score, precision_score, recall_score, f1_score, roc_auc_score\n",
    "from sklearn.metrics import roc_auc_score\n",
    "import seaborn as sns\n",
    "import matplotlib.pyplot as plt\n"
   ]
  },
  {
   "cell_type": "markdown",
   "metadata": {},
   "source": [
    "<div class=\"alert alert-success\">\n",
    "<h2>Комментарий ревьюера<a class=\"tocSkip\"></a></h2>\n",
    "    \n",
    "**Отлично!** ✔️: все импорты в одном месте, удобно :)</div>"
   ]
  },
  {
   "cell_type": "code",
   "execution_count": 2,
   "metadata": {
    "scrolled": false
   },
   "outputs": [],
   "source": [
    "import os\n",
    "\n",
    "pth1 = '/datasets/Churn.csv'\n",
    "pth2 = '/Downloads/Churn.csv'\n",
    "\n",
    "if os.path.exists(pth1):\n",
    "    df = pd.read_csv(pth1)\n",
    "elif os.path.exists(pth2):\n",
    "    df = pd.read_csv(pth2)\n",
    "else:\n",
    "    print('Something is wrong')\n",
    "\n"
   ]
  },
  {
   "cell_type": "markdown",
   "metadata": {},
   "source": [
    "<div class=\"alert alert-danger\">\n",
    "<h2>Комментарий ревьюера<a class=\"tocSkip\"></a></h2>\n",
    "\n",
    "**Нужно доработать** ❌: если ты работаешь локально, то перед отправкой нужно убедиться, что пути к файлам общедоступные. Тогда стоит переписать код таким образом, что бы он запускался и в Jupyter Hub, и локально без внесения дополнительных правок. Для этого можно использовать конструкцию <a href=\"https://pythonworld.ru/tipy-dannyx-v-python/isklyucheniya-v-python-konstrukciya-try-except-dlya-obrabotki-isklyuchenij.html\" target=\"blank_\">try-except</a> для путей файлов или применить библиотеку os:\n",
    "    \n",
    "    import os\n",
    "    \n",
    "    pth1 = '/folder_1/data.csv'\n",
    "    pth2 = '/folder_2/data.csv'\n",
    "    \n",
    "    if os.path.exists(pth1):\n",
    "        data = pd.read_csv(pth1)\n",
    "    elif os.path.exists(pth2):\n",
    "        data = pd.read_csv(pth2)\n",
    "    else:\n",
    "        print('Something is wrong')\n",
    "    \n",
    "Перед следующей отправкой убедись, что проект целиком запускается в окружении Практикума\n",
    "</div>"
   ]
  },
  {
   "cell_type": "markdown",
   "metadata": {},
   "source": [
    "<div class=\"alert alert-info\">\n",
    "    <b>Комментарий студента:</b> Алексей, спасибо! готово\n",
    "</div>\n",
    "    "
   ]
  },
  {
   "cell_type": "markdown",
   "metadata": {},
   "source": [
    "<div class=\"alert alert-success\">\n",
    "<h2>Комментарий ревьюера v2<a class=\"tocSkip\"></a></h2>\n",
    "    \n",
    "**Отлично!** ✔️: 👍</div>"
   ]
  },
  {
   "cell_type": "code",
   "execution_count": 3,
   "metadata": {},
   "outputs": [
    {
     "name": "stdout",
     "output_type": "stream",
     "text": [
      "<class 'pandas.core.frame.DataFrame'>\n",
      "RangeIndex: 10000 entries, 0 to 9999\n",
      "Data columns (total 14 columns):\n",
      " #   Column           Non-Null Count  Dtype  \n",
      "---  ------           --------------  -----  \n",
      " 0   RowNumber        10000 non-null  int64  \n",
      " 1   CustomerId       10000 non-null  int64  \n",
      " 2   Surname          10000 non-null  object \n",
      " 3   CreditScore      10000 non-null  int64  \n",
      " 4   Geography        10000 non-null  object \n",
      " 5   Gender           10000 non-null  object \n",
      " 6   Age              10000 non-null  int64  \n",
      " 7   Tenure           9091 non-null   float64\n",
      " 8   Balance          10000 non-null  float64\n",
      " 9   NumOfProducts    10000 non-null  int64  \n",
      " 10  HasCrCard        10000 non-null  int64  \n",
      " 11  IsActiveMember   10000 non-null  int64  \n",
      " 12  EstimatedSalary  10000 non-null  float64\n",
      " 13  Exited           10000 non-null  int64  \n",
      "dtypes: float64(3), int64(8), object(3)\n",
      "memory usage: 1.1+ MB\n",
      "None\n"
     ]
    }
   ],
   "source": [
    "print(df.info())"
   ]
  },
  {
   "cell_type": "markdown",
   "metadata": {},
   "source": [
    "Посмотрим, есть ли пустые значения в колонках."
   ]
  },
  {
   "cell_type": "code",
   "execution_count": 4,
   "metadata": {
    "scrolled": true
   },
   "outputs": [
    {
     "data": {
      "text/html": [
       "<div>\n",
       "<style scoped>\n",
       "    .dataframe tbody tr th:only-of-type {\n",
       "        vertical-align: middle;\n",
       "    }\n",
       "\n",
       "    .dataframe tbody tr th {\n",
       "        vertical-align: top;\n",
       "    }\n",
       "\n",
       "    .dataframe thead th {\n",
       "        text-align: right;\n",
       "    }\n",
       "</style>\n",
       "<table border=\"1\" class=\"dataframe\">\n",
       "  <thead>\n",
       "    <tr style=\"text-align: right;\">\n",
       "      <th></th>\n",
       "      <th>Tenure</th>\n",
       "    </tr>\n",
       "  </thead>\n",
       "  <tbody>\n",
       "    <tr>\n",
       "      <th>0</th>\n",
       "      <td>2.0</td>\n",
       "    </tr>\n",
       "    <tr>\n",
       "      <th>1</th>\n",
       "      <td>1.0</td>\n",
       "    </tr>\n",
       "    <tr>\n",
       "      <th>2</th>\n",
       "      <td>8.0</td>\n",
       "    </tr>\n",
       "    <tr>\n",
       "      <th>3</th>\n",
       "      <td>1.0</td>\n",
       "    </tr>\n",
       "    <tr>\n",
       "      <th>4</th>\n",
       "      <td>2.0</td>\n",
       "    </tr>\n",
       "    <tr>\n",
       "      <th>...</th>\n",
       "      <td>...</td>\n",
       "    </tr>\n",
       "    <tr>\n",
       "      <th>9995</th>\n",
       "      <td>5.0</td>\n",
       "    </tr>\n",
       "    <tr>\n",
       "      <th>9996</th>\n",
       "      <td>10.0</td>\n",
       "    </tr>\n",
       "    <tr>\n",
       "      <th>9997</th>\n",
       "      <td>7.0</td>\n",
       "    </tr>\n",
       "    <tr>\n",
       "      <th>9998</th>\n",
       "      <td>3.0</td>\n",
       "    </tr>\n",
       "    <tr>\n",
       "      <th>9999</th>\n",
       "      <td>NaN</td>\n",
       "    </tr>\n",
       "  </tbody>\n",
       "</table>\n",
       "<p>10000 rows × 1 columns</p>\n",
       "</div>"
      ],
      "text/plain": [
       "      Tenure\n",
       "0        2.0\n",
       "1        1.0\n",
       "2        8.0\n",
       "3        1.0\n",
       "4        2.0\n",
       "...      ...\n",
       "9995     5.0\n",
       "9996    10.0\n",
       "9997     7.0\n",
       "9998     3.0\n",
       "9999     NaN\n",
       "\n",
       "[10000 rows x 1 columns]"
      ]
     },
     "execution_count": 4,
     "metadata": {},
     "output_type": "execute_result"
    }
   ],
   "source": [
    "df.loc[:, df.isna().any()]"
   ]
  },
  {
   "cell_type": "code",
   "execution_count": 5,
   "metadata": {},
   "outputs": [
    {
     "data": {
      "text/plain": [
       "0.20132013201320131"
      ]
     },
     "execution_count": 5,
     "metadata": {},
     "output_type": "execute_result"
    }
   ],
   "source": [
    "df[df['Tenure'].isna()]['Exited'].mean()"
   ]
  },
  {
   "cell_type": "code",
   "execution_count": 6,
   "metadata": {},
   "outputs": [
    {
     "data": {
      "text/plain": [
       "0.5104510451045104"
      ]
     },
     "execution_count": 6,
     "metadata": {},
     "output_type": "execute_result"
    }
   ],
   "source": [
    "df[df['Tenure'].isna()]['IsActiveMember'].mean()"
   ]
  },
  {
   "cell_type": "code",
   "execution_count": 7,
   "metadata": {},
   "outputs": [
    {
     "data": {
      "text/plain": [
       "array([ 2.,  1.,  8.,  7.,  4.,  6.,  3., 10.,  5.,  9.,  0., nan])"
      ]
     },
     "execution_count": 7,
     "metadata": {},
     "output_type": "execute_result"
    }
   ],
   "source": [
    "df['Tenure'].unique()"
   ]
  },
  {
   "cell_type": "code",
   "execution_count": 8,
   "metadata": {},
   "outputs": [
    {
     "data": {
      "text/plain": [
       "726"
      ]
     },
     "execution_count": 8,
     "metadata": {},
     "output_type": "execute_result"
    }
   ],
   "source": [
    "df[df['Exited']==0]['Tenure'].isna().sum()\n"
   ]
  },
  {
   "cell_type": "code",
   "execution_count": 9,
   "metadata": {
    "scrolled": true
   },
   "outputs": [
    {
     "data": {
      "text/plain": [
       "183"
      ]
     },
     "execution_count": 9,
     "metadata": {},
     "output_type": "execute_result"
    }
   ],
   "source": [
    "df[df['Exited']==1]['Tenure'].isna().sum()"
   ]
  },
  {
   "cell_type": "markdown",
   "metadata": {},
   "source": [
    "Найдены пустые значения в колонке Tenure, нет оснований думать, что это ушедшие клиенты, так как в колонке Exited только около 20% из них отмечены ушедшими. Среди этих же клиентов около 51% являются активными пользователями банковских услуг. Несмотря на это, решено удалить все столбцы с nan, так как они занимают меньше 10% данных, к тому же, модель не может учиться на таких данных. "
   ]
  },
  {
   "cell_type": "code",
   "execution_count": 10,
   "metadata": {},
   "outputs": [
    {
     "data": {
      "image/png": "[encoded data removed]",
      "text/plain": [
       "<Figure size 1296x720 with 2 Axes>"
      ]
     },
     "metadata": {
      "needs_background": "light"
     },
     "output_type": "display_data"
    }
   ],
   "source": [
    "plt.figure(figsize=(18, 10))\n",
    "sns.heatmap(df.corr(), annot=True, cmap='Pastel2', cbar=True, robust=False, linewidths=.2)\n",
    "plt.show()"
   ]
  },
  {
   "cell_type": "code",
   "execution_count": 11,
   "metadata": {},
   "outputs": [],
   "source": [
    "df = df.dropna(axis=0)"
   ]
  },
  {
   "cell_type": "markdown",
   "metadata": {},
   "source": [
    "<div class=\"alert alert-warning\">\n",
    "<h2>Комментарий ревьюера<a class=\"tocSkip\"></a></h2>\n",
    "    \n",
    "**Есть совет** ⚠️: удалить пропуски действительно можно, но перед этим стоит проверить, что корректно заполнить их нельзя. Для этого можно, например, посмотреть на матрицу корреляций. Если есть достаточная корреляция этого признака с каким-либо другим, то тогда пропуски можно заполнить, например, сгруппировав датасет по скоррелированному признаку и посчитав медианное значение в столбце `tenure`</div>"
   ]
  },
  {
   "cell_type": "markdown",
   "metadata": {},
   "source": [
    "<div class=\"alert alert-info\">\n",
    "    <b>Комментарий студента:</b> хорошо, поняла. от какого значения корреляция считается достаточной?\n",
    "</div>"
   ]
  },
  {
   "cell_type": "markdown",
   "metadata": {},
   "source": [
    "<div class=\"alert alert-success\">\n",
    "<h2>Комментарий ревьюера v2<a class=\"tocSkip\"></a></h2>\n",
    "    \n",
    "**Отлично!** ✔️: вообще это зависит от задачи, но в общем случае сильной корреляцией можно считать коэффициент > 0.7, а значения, меньше, 0.5 считаются уже слабой корреляцией. Тогда пропуски действительно можно удалить, заметной корреляции здесь не наблюдается</div>"
   ]
  },
  {
   "cell_type": "code",
   "execution_count": 12,
   "metadata": {
    "scrolled": true
   },
   "outputs": [
    {
     "name": "stdout",
     "output_type": "stream",
     "text": [
      "['Hargrave' 'Hill' 'Onio' ... 'Kashiwagi' 'Aldridge' 'Burbidge']\n",
      "['France' 'Spain' 'Germany']\n",
      "['Female' 'Male']\n"
     ]
    }
   ],
   "source": [
    "print(df['Surname'].unique())\n",
    "print(df['Geography'].unique())\n",
    "print(df['Gender'].unique())\n",
    "\n"
   ]
  },
  {
   "cell_type": "markdown",
   "metadata": {},
   "source": [
    "В данных 3 столбца категориальных перменных, фамилии можно удалить, так как клиентов можно идентифицировать по уникальному номеру. Также можно удалить столбец RowNumber, конфликтует с индексацией таблицы, и CustomerId, возможно, он может ввести в заблуждение модель. Столбцы Geography и Gender переведем в численные через прямое кодирование. "
   ]
  },
  {
   "cell_type": "code",
   "execution_count": 13,
   "metadata": {
    "scrolled": true
   },
   "outputs": [
    {
     "name": "stdout",
     "output_type": "stream",
     "text": [
      "   CreditScore Geography  Gender  Age  Tenure    Balance  NumOfProducts  \\\n",
      "0          619    France  Female   42     2.0       0.00              1   \n",
      "1          608     Spain  Female   41     1.0   83807.86              1   \n",
      "2          502    France  Female   42     8.0  159660.80              3   \n",
      "3          699    France  Female   39     1.0       0.00              2   \n",
      "4          850     Spain  Female   43     2.0  125510.82              1   \n",
      "\n",
      "   HasCrCard  IsActiveMember  EstimatedSalary  Exited  \n",
      "0          1               1        101348.88       1  \n",
      "1          0               1        112542.58       0  \n",
      "2          1               0        113931.57       1  \n",
      "3          0               0         93826.63       0  \n",
      "4          1               1         79084.10       0  \n"
     ]
    }
   ],
   "source": [
    "columns_to_drop = ['Surname', 'RowNumber', 'CustomerId']\n",
    "\n",
    "df = df.drop(columns_to_drop, axis=1)\n",
    "\n",
    "# df = df.drop('Surname', axis=1)\n",
    "# df = df.drop('RowNumber', axis=1)\n",
    "# df = df.drop('CustomerId', axis=1)\n",
    "\n",
    "print(df.head())"
   ]
  },
  {
   "cell_type": "markdown",
   "metadata": {},
   "source": [
    "<div class=\"alert alert-success\">\n",
    "<h2>Комментарий ревьюера<a class=\"tocSkip\"></a></h2>\n",
    "    \n",
    "**Отлично!** ✔️: согласен, эти признаки для моделей неинформативны</div>"
   ]
  },
  {
   "cell_type": "markdown",
   "metadata": {},
   "source": [
    "<div class=\"alert alert-warning\">\n",
    "<h2>Комментарий ревьюера<a class=\"tocSkip\"></a></h2>\n",
    "    \n",
    "**Есть совет** ⚠️: но методу drop можно передавать сразу список признаков, чтобы не дублировать код</div>"
   ]
  },
  {
   "cell_type": "markdown",
   "metadata": {},
   "source": [
    "<div class=\"alert alert-info\">\n",
    "    <b>Комментарий студента:</b> исправила\n",
    "</div>"
   ]
  },
  {
   "cell_type": "markdown",
   "metadata": {},
   "source": [
    "<div class=\"alert alert-success\">\n",
    "<h2>Комментарий ревьюера v2<a class=\"tocSkip\"></a></h2>\n",
    "    \n",
    "**Отлично!** ✔️: 👍</div>"
   ]
  },
  {
   "cell_type": "code",
   "execution_count": 14,
   "metadata": {
    "scrolled": true
   },
   "outputs": [
    {
     "name": "stdout",
     "output_type": "stream",
     "text": [
      "   CreditScore  Age  Tenure    Balance  NumOfProducts  HasCrCard  \\\n",
      "0          619   42     2.0       0.00              1          1   \n",
      "1          608   41     1.0   83807.86              1          0   \n",
      "2          502   42     8.0  159660.80              3          1   \n",
      "3          699   39     1.0       0.00              2          0   \n",
      "4          850   43     2.0  125510.82              1          1   \n",
      "\n",
      "   IsActiveMember  EstimatedSalary  Exited  Geography_Germany  \\\n",
      "0               1        101348.88       1                  0   \n",
      "1               1        112542.58       0                  0   \n",
      "2               0        113931.57       1                  0   \n",
      "3               0         93826.63       0                  0   \n",
      "4               1         79084.10       0                  0   \n",
      "\n",
      "   Geography_Spain  Gender_Male  \n",
      "0                0            0  \n",
      "1                1            0  \n",
      "2                0            0  \n",
      "3                0            0  \n",
      "4                1            0  \n"
     ]
    }
   ],
   "source": [
    "df_ohe = pd.get_dummies(df, drop_first=True)\n",
    "print(df_ohe.head())"
   ]
  },
  {
   "cell_type": "markdown",
   "metadata": {},
   "source": [
    "<div class=\"alert alert-warning\">\n",
    "<h2>Комментарий ревьюера<a class=\"tocSkip\"></a></h2>\n",
    "    \n",
    "**Есть совет** ⚠️: окей, OHE в этом случае подходит, но правильнее обучать кодировщик только на обучающей выборке, а трансформировать уже все, аналогично масштабированию, чтобы избежать утечки данных. Тогда вместо get_dummies можно использовать <a href=\"https://scikit-learn.org/stable/modules/generated/sklearn.preprocessing.OneHotEncoder.html\" target=\"blank_\">OneHotEncoder</a>, подробнее про различия можно почитать <a href=\"https://albertum.medium.com/preprocessing-onehotencoder-vs-pandas-get-dummies-3de1f3d77dcc\" target=\"blank_\">здесь</a>\n",
    "\n",
    "Обрати внимание, что в следующих проектах это будет считаться критичной ошибкой</div>"
   ]
  },
  {
   "cell_type": "markdown",
   "metadata": {},
   "source": [
    "<div class=\"alert alert-info\">\n",
    "    <b>Комментарий студента:</b> \n",
    "    \n",
    "    Алексей, не понимаю \"правильнее обучать кодировщик только на обучающей выборке, а трансформировать уже все, аналогично масштабированию, чтобы избежать утечки данных.\"?  \n",
    "    \n",
    "    А еще нам в теории давали get_dummies как прямую реализацию технику OHE, странно. \n",
    "    \n",
    "    почитала статью, автор пишет: \"If the total number of unique values in a categorical column is not the same for my train set vs test set, I’m going to have problems.\" но мы же разделяем один датасет (df_ohe) на 3 части, поэтому и в train, и в test колонки будут одинаковыми?\n",
    "</div>"
   ]
  },
  {
   "cell_type": "markdown",
   "metadata": {},
   "source": [
    "<div class=\"alert alert-warning\">\n",
    "<h2>Комментарий ревьюера v2<a class=\"tocSkip\"></a></h2>\n",
    "    \n",
    "**Есть совет** ⚠️: насколько мне известно, этот спринт сейчас на доработке у авторов, так что изменения в теории будут, а пока можем разобраться самостоятельно: в разных подвыборках действительно может быть разный набор категорий в каком-либо признаках(например, в тестовой выборке может быть еще одна страна — Италия), даже если мы делим их самостоятельно, это не такая редкая ситуация(особенно, когда категорий много), поэтому здесь важно учитывать два момента:\n",
    "- кодирование общей выборки может привести к утечке данных, так как для новых категорий выделятся отдельные столбцы, про которые не должно быть информации на этапе обучения, из-за чего метрики могут быть смещены\n",
    "- обучение кодировщика на каждой выборке отдельно приведет к тому, что в какой-либо выборке категории могут быть закодированы иначе, что только запутает модель на этапе предсказаний. Тогда здесь на помощь приходит OneHotEncoder, а весь код может выглядеть, например, так:\n",
    "    \n",
    "        categorical_columns = ['gender', ...]\n",
    "        numeric_columns = [...]\n",
    "\n",
    "        encoder = OneHotEncoder(drop='first', handle_unknown='ignore')\n",
    "\n",
    "        encoder.fit(features_train[categorical_columns])\n",
    "\n",
    "        features_train_encoded = pd.DataFrame(\n",
    "            encoder.transform(features_train[categorical_columns]).toarray(),\n",
    "            columns=encoder.get_feature_names(categorical_columns),\n",
    "            index=features_train.index\n",
    "        )\n",
    "        features_train = pd.concat((features_train[numeric_columns], features_train_encoded), axis=1)\n",
    "\n",
    "        features_valid_encoded = pd.DataFrame(\n",
    "            encoder.transform(features_valid[categorical_columns]).toarray(),\n",
    "            columns=encoder.get_feature_names(categorical_columns),\n",
    "            index=features_valid.index\n",
    "        )\n",
    "        features_valid = pd.concat((features_valid[numeric_columns], features_valid_encoded), axis=1)\n",
    "\n",
    "        features_test_encoded = pd.DataFrame(\n",
    "            encoder.transform(features_test[categorical_columns]).toarray(),\n",
    "            columns=encoder.get_feature_names(categorical_columns),\n",
    "            index=features_test.index\n",
    "        )\n",
    "        features_test = pd.concat((features_test[numeric_columns], features_test_encoded), axis=1)\n",
    "    \n",
    "Параметр `handle_unknown=\"ignore\"` позволяет обработать случаи, когда набор категорий в признаке в обучающей и валидационной/тестовой не будет совпадать. А метод <a href=\"https://scikit-learn.org/1.1/modules/generated/sklearn.preprocessing.OneHotEncoder.html?highlight=onehotencoder#sklearn.preprocessing.OneHotEncoder.get_feature_names\" target=\"blank_\">get_feature_names</a>(в более новой версии sklearn лучше использовать `get_feature_names_out`) возвращает названия новых колонок. Для того, чтобы обновить библиотеку, в начало проекта можно добавить следующий код:\n",
    "    \n",
    "    !pip install scikit-learn --upgrade\n",
    "    \n",
    "И get_dummies, и OneHotEncoder — это две реализации OHE. Но OneHotEncoder — это класс(термин из ООП), поэтому при его инициализации создается объект класса. При обучении кодировщика в его объект сохраняются категории, которые ему были переданы при обучении, поэтому при кодировании других выборок с разным набором категорий в категориальных признаках проблем уже не возникнет.\n",
    "    \n",
    "get_dummies же просто возвращает набор новых столбцов и никакой дополнительной информации уже не хранит. Он подходит для анализа данных, но для ML используется именно OneHotEncoder</div>"
   ]
  },
  {
   "cell_type": "markdown",
   "metadata": {},
   "source": [
    "Посмотрим ближе на Age, Tenure, Balance, NumOfProducts, EstimatedSalary."
   ]
  },
  {
   "cell_type": "code",
   "execution_count": 15,
   "metadata": {
    "scrolled": false
   },
   "outputs": [
    {
     "data": {
      "text/html": [
       "<div>\n",
       "<style scoped>\n",
       "    .dataframe tbody tr th:only-of-type {\n",
       "        vertical-align: middle;\n",
       "    }\n",
       "\n",
       "    .dataframe tbody tr th {\n",
       "        vertical-align: top;\n",
       "    }\n",
       "\n",
       "    .dataframe thead th {\n",
       "        text-align: right;\n",
       "    }\n",
       "</style>\n",
       "<table border=\"1\" class=\"dataframe\">\n",
       "  <thead>\n",
       "    <tr style=\"text-align: right;\">\n",
       "      <th></th>\n",
       "      <th>count</th>\n",
       "      <th>mean</th>\n",
       "      <th>std</th>\n",
       "      <th>min</th>\n",
       "      <th>25%</th>\n",
       "      <th>50%</th>\n",
       "      <th>75%</th>\n",
       "      <th>max</th>\n",
       "    </tr>\n",
       "  </thead>\n",
       "  <tbody>\n",
       "    <tr>\n",
       "      <th>CreditScore</th>\n",
       "      <td>9091.00</td>\n",
       "      <td>650.74</td>\n",
       "      <td>96.41</td>\n",
       "      <td>350.00</td>\n",
       "      <td>584.00</td>\n",
       "      <td>652.00</td>\n",
       "      <td>717.00</td>\n",
       "      <td>850.00</td>\n",
       "    </tr>\n",
       "    <tr>\n",
       "      <th>Age</th>\n",
       "      <td>9091.00</td>\n",
       "      <td>38.95</td>\n",
       "      <td>10.56</td>\n",
       "      <td>18.00</td>\n",
       "      <td>32.00</td>\n",
       "      <td>37.00</td>\n",
       "      <td>44.00</td>\n",
       "      <td>92.00</td>\n",
       "    </tr>\n",
       "    <tr>\n",
       "      <th>Tenure</th>\n",
       "      <td>9091.00</td>\n",
       "      <td>5.00</td>\n",
       "      <td>2.89</td>\n",
       "      <td>0.00</td>\n",
       "      <td>2.00</td>\n",
       "      <td>5.00</td>\n",
       "      <td>7.00</td>\n",
       "      <td>10.00</td>\n",
       "    </tr>\n",
       "    <tr>\n",
       "      <th>Balance</th>\n",
       "      <td>9091.00</td>\n",
       "      <td>76522.74</td>\n",
       "      <td>62329.53</td>\n",
       "      <td>0.00</td>\n",
       "      <td>0.00</td>\n",
       "      <td>97318.25</td>\n",
       "      <td>127561.89</td>\n",
       "      <td>250898.09</td>\n",
       "    </tr>\n",
       "    <tr>\n",
       "      <th>NumOfProducts</th>\n",
       "      <td>9091.00</td>\n",
       "      <td>1.53</td>\n",
       "      <td>0.58</td>\n",
       "      <td>1.00</td>\n",
       "      <td>1.00</td>\n",
       "      <td>1.00</td>\n",
       "      <td>2.00</td>\n",
       "      <td>4.00</td>\n",
       "    </tr>\n",
       "    <tr>\n",
       "      <th>EstimatedSalary</th>\n",
       "      <td>9091.00</td>\n",
       "      <td>100181.21</td>\n",
       "      <td>57624.76</td>\n",
       "      <td>11.58</td>\n",
       "      <td>51227.74</td>\n",
       "      <td>100240.20</td>\n",
       "      <td>149567.21</td>\n",
       "      <td>199992.48</td>\n",
       "    </tr>\n",
       "  </tbody>\n",
       "</table>\n",
       "</div>"
      ],
      "text/plain": [
       "                  count      mean      std    min      25%       50%  \\\n",
       "CreditScore     9091.00    650.74    96.41 350.00   584.00    652.00   \n",
       "Age             9091.00     38.95    10.56  18.00    32.00     37.00   \n",
       "Tenure          9091.00      5.00     2.89   0.00     2.00      5.00   \n",
       "Balance         9091.00  76522.74 62329.53   0.00     0.00  97318.25   \n",
       "NumOfProducts   9091.00      1.53     0.58   1.00     1.00      1.00   \n",
       "EstimatedSalary 9091.00 100181.21 57624.76  11.58 51227.74 100240.20   \n",
       "\n",
       "                      75%       max  \n",
       "CreditScore        717.00    850.00  \n",
       "Age                 44.00     92.00  \n",
       "Tenure               7.00     10.00  \n",
       "Balance         127561.89 250898.09  \n",
       "NumOfProducts        2.00      4.00  \n",
       "EstimatedSalary 149567.21 199992.48  "
      ]
     },
     "execution_count": 15,
     "metadata": {},
     "output_type": "execute_result"
    }
   ],
   "source": [
    "pd.options.display.float_format = '{:.2f}'.format\n",
    "numeric = ['CreditScore', 'Age', 'Tenure', 'Balance', 'NumOfProducts', 'EstimatedSalary']\n",
    "df_ohe[numeric].describe().T"
   ]
  },
  {
   "cell_type": "markdown",
   "metadata": {},
   "source": [
    "Есть признаки с разными масштабами, например, возраст и суммы денег. Стандартизируем данные, чтобы алгоритм не решил, что суммы денег важнее возраста. \n",
    "Перед этим разделим данные на обучащую, тестовую и валидационную."
   ]
  },
  {
   "cell_type": "code",
   "execution_count": 16,
   "metadata": {},
   "outputs": [
    {
     "data": {
      "text/html": [
       "<div>\n",
       "<style scoped>\n",
       "    .dataframe tbody tr th:only-of-type {\n",
       "        vertical-align: middle;\n",
       "    }\n",
       "\n",
       "    .dataframe tbody tr th {\n",
       "        vertical-align: top;\n",
       "    }\n",
       "\n",
       "    .dataframe thead th {\n",
       "        text-align: right;\n",
       "    }\n",
       "</style>\n",
       "<table border=\"1\" class=\"dataframe\">\n",
       "  <thead>\n",
       "    <tr style=\"text-align: right;\">\n",
       "      <th></th>\n",
       "      <th>CreditScore</th>\n",
       "      <th>Age</th>\n",
       "      <th>Tenure</th>\n",
       "      <th>Balance</th>\n",
       "      <th>NumOfProducts</th>\n",
       "      <th>HasCrCard</th>\n",
       "      <th>IsActiveMember</th>\n",
       "      <th>EstimatedSalary</th>\n",
       "      <th>Exited</th>\n",
       "      <th>Geography_Germany</th>\n",
       "      <th>Geography_Spain</th>\n",
       "      <th>Gender_Male</th>\n",
       "    </tr>\n",
       "  </thead>\n",
       "  <tbody>\n",
       "    <tr>\n",
       "      <th>0</th>\n",
       "      <td>619</td>\n",
       "      <td>42</td>\n",
       "      <td>2.00</td>\n",
       "      <td>0.00</td>\n",
       "      <td>1</td>\n",
       "      <td>1</td>\n",
       "      <td>1</td>\n",
       "      <td>101348.88</td>\n",
       "      <td>1</td>\n",
       "      <td>0</td>\n",
       "      <td>0</td>\n",
       "      <td>0</td>\n",
       "    </tr>\n",
       "    <tr>\n",
       "      <th>1</th>\n",
       "      <td>608</td>\n",
       "      <td>41</td>\n",
       "      <td>1.00</td>\n",
       "      <td>83807.86</td>\n",
       "      <td>1</td>\n",
       "      <td>0</td>\n",
       "      <td>1</td>\n",
       "      <td>112542.58</td>\n",
       "      <td>0</td>\n",
       "      <td>0</td>\n",
       "      <td>1</td>\n",
       "      <td>0</td>\n",
       "    </tr>\n",
       "    <tr>\n",
       "      <th>2</th>\n",
       "      <td>502</td>\n",
       "      <td>42</td>\n",
       "      <td>8.00</td>\n",
       "      <td>159660.80</td>\n",
       "      <td>3</td>\n",
       "      <td>1</td>\n",
       "      <td>0</td>\n",
       "      <td>113931.57</td>\n",
       "      <td>1</td>\n",
       "      <td>0</td>\n",
       "      <td>0</td>\n",
       "      <td>0</td>\n",
       "    </tr>\n",
       "    <tr>\n",
       "      <th>3</th>\n",
       "      <td>699</td>\n",
       "      <td>39</td>\n",
       "      <td>1.00</td>\n",
       "      <td>0.00</td>\n",
       "      <td>2</td>\n",
       "      <td>0</td>\n",
       "      <td>0</td>\n",
       "      <td>93826.63</td>\n",
       "      <td>0</td>\n",
       "      <td>0</td>\n",
       "      <td>0</td>\n",
       "      <td>0</td>\n",
       "    </tr>\n",
       "    <tr>\n",
       "      <th>4</th>\n",
       "      <td>850</td>\n",
       "      <td>43</td>\n",
       "      <td>2.00</td>\n",
       "      <td>125510.82</td>\n",
       "      <td>1</td>\n",
       "      <td>1</td>\n",
       "      <td>1</td>\n",
       "      <td>79084.10</td>\n",
       "      <td>0</td>\n",
       "      <td>0</td>\n",
       "      <td>1</td>\n",
       "      <td>0</td>\n",
       "    </tr>\n",
       "    <tr>\n",
       "      <th>...</th>\n",
       "      <td>...</td>\n",
       "      <td>...</td>\n",
       "      <td>...</td>\n",
       "      <td>...</td>\n",
       "      <td>...</td>\n",
       "      <td>...</td>\n",
       "      <td>...</td>\n",
       "      <td>...</td>\n",
       "      <td>...</td>\n",
       "      <td>...</td>\n",
       "      <td>...</td>\n",
       "      <td>...</td>\n",
       "    </tr>\n",
       "    <tr>\n",
       "      <th>9994</th>\n",
       "      <td>800</td>\n",
       "      <td>29</td>\n",
       "      <td>2.00</td>\n",
       "      <td>0.00</td>\n",
       "      <td>2</td>\n",
       "      <td>0</td>\n",
       "      <td>0</td>\n",
       "      <td>167773.55</td>\n",
       "      <td>0</td>\n",
       "      <td>0</td>\n",
       "      <td>0</td>\n",
       "      <td>0</td>\n",
       "    </tr>\n",
       "    <tr>\n",
       "      <th>9995</th>\n",
       "      <td>771</td>\n",
       "      <td>39</td>\n",
       "      <td>5.00</td>\n",
       "      <td>0.00</td>\n",
       "      <td>2</td>\n",
       "      <td>1</td>\n",
       "      <td>0</td>\n",
       "      <td>96270.64</td>\n",
       "      <td>0</td>\n",
       "      <td>0</td>\n",
       "      <td>0</td>\n",
       "      <td>1</td>\n",
       "    </tr>\n",
       "    <tr>\n",
       "      <th>9996</th>\n",
       "      <td>516</td>\n",
       "      <td>35</td>\n",
       "      <td>10.00</td>\n",
       "      <td>57369.61</td>\n",
       "      <td>1</td>\n",
       "      <td>1</td>\n",
       "      <td>1</td>\n",
       "      <td>101699.77</td>\n",
       "      <td>0</td>\n",
       "      <td>0</td>\n",
       "      <td>0</td>\n",
       "      <td>1</td>\n",
       "    </tr>\n",
       "    <tr>\n",
       "      <th>9997</th>\n",
       "      <td>709</td>\n",
       "      <td>36</td>\n",
       "      <td>7.00</td>\n",
       "      <td>0.00</td>\n",
       "      <td>1</td>\n",
       "      <td>0</td>\n",
       "      <td>1</td>\n",
       "      <td>42085.58</td>\n",
       "      <td>1</td>\n",
       "      <td>0</td>\n",
       "      <td>0</td>\n",
       "      <td>0</td>\n",
       "    </tr>\n",
       "    <tr>\n",
       "      <th>9998</th>\n",
       "      <td>772</td>\n",
       "      <td>42</td>\n",
       "      <td>3.00</td>\n",
       "      <td>75075.31</td>\n",
       "      <td>2</td>\n",
       "      <td>1</td>\n",
       "      <td>0</td>\n",
       "      <td>92888.52</td>\n",
       "      <td>1</td>\n",
       "      <td>1</td>\n",
       "      <td>0</td>\n",
       "      <td>1</td>\n",
       "    </tr>\n",
       "  </tbody>\n",
       "</table>\n",
       "<p>9091 rows × 12 columns</p>\n",
       "</div>"
      ],
      "text/plain": [
       "      CreditScore  Age  Tenure   Balance  NumOfProducts  HasCrCard  \\\n",
       "0             619   42    2.00      0.00              1          1   \n",
       "1             608   41    1.00  83807.86              1          0   \n",
       "2             502   42    8.00 159660.80              3          1   \n",
       "3             699   39    1.00      0.00              2          0   \n",
       "4             850   43    2.00 125510.82              1          1   \n",
       "...           ...  ...     ...       ...            ...        ...   \n",
       "9994          800   29    2.00      0.00              2          0   \n",
       "9995          771   39    5.00      0.00              2          1   \n",
       "9996          516   35   10.00  57369.61              1          1   \n",
       "9997          709   36    7.00      0.00              1          0   \n",
       "9998          772   42    3.00  75075.31              2          1   \n",
       "\n",
       "      IsActiveMember  EstimatedSalary  Exited  Geography_Germany  \\\n",
       "0                  1        101348.88       1                  0   \n",
       "1                  1        112542.58       0                  0   \n",
       "2                  0        113931.57       1                  0   \n",
       "3                  0         93826.63       0                  0   \n",
       "4                  1         79084.10       0                  0   \n",
       "...              ...              ...     ...                ...   \n",
       "9994               0        167773.55       0                  0   \n",
       "9995               0         96270.64       0                  0   \n",
       "9996               1        101699.77       0                  0   \n",
       "9997               1         42085.58       1                  0   \n",
       "9998               0         92888.52       1                  1   \n",
       "\n",
       "      Geography_Spain  Gender_Male  \n",
       "0                   0            0  \n",
       "1                   1            0  \n",
       "2                   0            0  \n",
       "3                   0            0  \n",
       "4                   1            0  \n",
       "...               ...          ...  \n",
       "9994                0            0  \n",
       "9995                0            1  \n",
       "9996                0            1  \n",
       "9997                0            0  \n",
       "9998                0            1  \n",
       "\n",
       "[9091 rows x 12 columns]"
      ]
     },
     "execution_count": 16,
     "metadata": {},
     "output_type": "execute_result"
    }
   ],
   "source": [
    "df_ohe"
   ]
  },
  {
   "cell_type": "code",
   "execution_count": 17,
   "metadata": {
    "scrolled": true
   },
   "outputs": [
    {
     "data": {
      "text/plain": [
       "(5454, 12)"
      ]
     },
     "metadata": {},
     "output_type": "display_data"
    },
    {
     "data": {
      "text/plain": [
       "(1818, 12)"
      ]
     },
     "metadata": {},
     "output_type": "display_data"
    },
    {
     "data": {
      "text/plain": [
       "(1819, 12)"
      ]
     },
     "metadata": {},
     "output_type": "display_data"
    },
    {
     "data": {
      "text/html": [
       "<div>\n",
       "<style scoped>\n",
       "    .dataframe tbody tr th:only-of-type {\n",
       "        vertical-align: middle;\n",
       "    }\n",
       "\n",
       "    .dataframe tbody tr th {\n",
       "        vertical-align: top;\n",
       "    }\n",
       "\n",
       "    .dataframe thead th {\n",
       "        text-align: right;\n",
       "    }\n",
       "</style>\n",
       "<table border=\"1\" class=\"dataframe\">\n",
       "  <thead>\n",
       "    <tr style=\"text-align: right;\">\n",
       "      <th></th>\n",
       "      <th>CreditScore</th>\n",
       "      <th>Age</th>\n",
       "      <th>Tenure</th>\n",
       "      <th>Balance</th>\n",
       "      <th>NumOfProducts</th>\n",
       "      <th>HasCrCard</th>\n",
       "      <th>IsActiveMember</th>\n",
       "      <th>EstimatedSalary</th>\n",
       "      <th>Exited</th>\n",
       "      <th>Geography_Germany</th>\n",
       "      <th>Geography_Spain</th>\n",
       "      <th>Gender_Male</th>\n",
       "    </tr>\n",
       "  </thead>\n",
       "  <tbody>\n",
       "    <tr>\n",
       "      <th>862</th>\n",
       "      <td>725</td>\n",
       "      <td>41</td>\n",
       "      <td>7.00</td>\n",
       "      <td>113980.21</td>\n",
       "      <td>1</td>\n",
       "      <td>1</td>\n",
       "      <td>1</td>\n",
       "      <td>116704.25</td>\n",
       "      <td>0</td>\n",
       "      <td>0</td>\n",
       "      <td>0</td>\n",
       "      <td>1</td>\n",
       "    </tr>\n",
       "    <tr>\n",
       "      <th>9727</th>\n",
       "      <td>530</td>\n",
       "      <td>45</td>\n",
       "      <td>1.00</td>\n",
       "      <td>0.00</td>\n",
       "      <td>1</td>\n",
       "      <td>0</td>\n",
       "      <td>1</td>\n",
       "      <td>190663.89</td>\n",
       "      <td>1</td>\n",
       "      <td>0</td>\n",
       "      <td>0</td>\n",
       "      <td>0</td>\n",
       "    </tr>\n",
       "    <tr>\n",
       "      <th>1717</th>\n",
       "      <td>707</td>\n",
       "      <td>35</td>\n",
       "      <td>3.00</td>\n",
       "      <td>56674.48</td>\n",
       "      <td>1</td>\n",
       "      <td>1</td>\n",
       "      <td>0</td>\n",
       "      <td>17987.40</td>\n",
       "      <td>1</td>\n",
       "      <td>0</td>\n",
       "      <td>1</td>\n",
       "      <td>0</td>\n",
       "    </tr>\n",
       "    <tr>\n",
       "      <th>8640</th>\n",
       "      <td>730</td>\n",
       "      <td>32</td>\n",
       "      <td>9.00</td>\n",
       "      <td>127661.69</td>\n",
       "      <td>1</td>\n",
       "      <td>0</td>\n",
       "      <td>0</td>\n",
       "      <td>60905.51</td>\n",
       "      <td>0</td>\n",
       "      <td>0</td>\n",
       "      <td>0</td>\n",
       "      <td>0</td>\n",
       "    </tr>\n",
       "    <tr>\n",
       "      <th>5288</th>\n",
       "      <td>582</td>\n",
       "      <td>30</td>\n",
       "      <td>2.00</td>\n",
       "      <td>0.00</td>\n",
       "      <td>2</td>\n",
       "      <td>1</td>\n",
       "      <td>1</td>\n",
       "      <td>132029.95</td>\n",
       "      <td>0</td>\n",
       "      <td>0</td>\n",
       "      <td>0</td>\n",
       "      <td>1</td>\n",
       "    </tr>\n",
       "  </tbody>\n",
       "</table>\n",
       "</div>"
      ],
      "text/plain": [
       "      CreditScore  Age  Tenure   Balance  NumOfProducts  HasCrCard  \\\n",
       "862           725   41    7.00 113980.21              1          1   \n",
       "9727          530   45    1.00      0.00              1          0   \n",
       "1717          707   35    3.00  56674.48              1          1   \n",
       "8640          730   32    9.00 127661.69              1          0   \n",
       "5288          582   30    2.00      0.00              2          1   \n",
       "\n",
       "      IsActiveMember  EstimatedSalary  Exited  Geography_Germany  \\\n",
       "862                1        116704.25       0                  0   \n",
       "9727               1        190663.89       1                  0   \n",
       "1717               0         17987.40       1                  0   \n",
       "8640               0         60905.51       0                  0   \n",
       "5288               1        132029.95       0                  0   \n",
       "\n",
       "      Geography_Spain  Gender_Male  \n",
       "862                 0            1  \n",
       "9727                0            0  \n",
       "1717                1            0  \n",
       "8640                0            0  \n",
       "5288                0            1  "
      ]
     },
     "metadata": {},
     "output_type": "display_data"
    },
    {
     "data": {
      "text/html": [
       "<div>\n",
       "<style scoped>\n",
       "    .dataframe tbody tr th:only-of-type {\n",
       "        vertical-align: middle;\n",
       "    }\n",
       "\n",
       "    .dataframe tbody tr th {\n",
       "        vertical-align: top;\n",
       "    }\n",
       "\n",
       "    .dataframe thead th {\n",
       "        text-align: right;\n",
       "    }\n",
       "</style>\n",
       "<table border=\"1\" class=\"dataframe\">\n",
       "  <thead>\n",
       "    <tr style=\"text-align: right;\">\n",
       "      <th></th>\n",
       "      <th>CreditScore</th>\n",
       "      <th>Age</th>\n",
       "      <th>Tenure</th>\n",
       "      <th>Balance</th>\n",
       "      <th>NumOfProducts</th>\n",
       "      <th>HasCrCard</th>\n",
       "      <th>IsActiveMember</th>\n",
       "      <th>EstimatedSalary</th>\n",
       "      <th>Exited</th>\n",
       "      <th>Geography_Germany</th>\n",
       "      <th>Geography_Spain</th>\n",
       "      <th>Gender_Male</th>\n",
       "    </tr>\n",
       "  </thead>\n",
       "  <tbody>\n",
       "    <tr>\n",
       "      <th>1993</th>\n",
       "      <td>824</td>\n",
       "      <td>60</td>\n",
       "      <td>8.00</td>\n",
       "      <td>134250.17</td>\n",
       "      <td>3</td>\n",
       "      <td>0</td>\n",
       "      <td>0</td>\n",
       "      <td>153046.16</td>\n",
       "      <td>1</td>\n",
       "      <td>1</td>\n",
       "      <td>0</td>\n",
       "      <td>1</td>\n",
       "    </tr>\n",
       "    <tr>\n",
       "      <th>3023</th>\n",
       "      <td>618</td>\n",
       "      <td>39</td>\n",
       "      <td>2.00</td>\n",
       "      <td>91068.56</td>\n",
       "      <td>1</td>\n",
       "      <td>1</td>\n",
       "      <td>0</td>\n",
       "      <td>26578.69</td>\n",
       "      <td>0</td>\n",
       "      <td>0</td>\n",
       "      <td>0</td>\n",
       "      <td>1</td>\n",
       "    </tr>\n",
       "    <tr>\n",
       "      <th>396</th>\n",
       "      <td>557</td>\n",
       "      <td>33</td>\n",
       "      <td>3.00</td>\n",
       "      <td>54503.55</td>\n",
       "      <td>1</td>\n",
       "      <td>1</td>\n",
       "      <td>1</td>\n",
       "      <td>371.05</td>\n",
       "      <td>0</td>\n",
       "      <td>0</td>\n",
       "      <td>0</td>\n",
       "      <td>1</td>\n",
       "    </tr>\n",
       "    <tr>\n",
       "      <th>8888</th>\n",
       "      <td>743</td>\n",
       "      <td>23</td>\n",
       "      <td>3.00</td>\n",
       "      <td>110203.77</td>\n",
       "      <td>1</td>\n",
       "      <td>1</td>\n",
       "      <td>0</td>\n",
       "      <td>95583.45</td>\n",
       "      <td>0</td>\n",
       "      <td>0</td>\n",
       "      <td>0</td>\n",
       "      <td>1</td>\n",
       "    </tr>\n",
       "    <tr>\n",
       "      <th>1694</th>\n",
       "      <td>541</td>\n",
       "      <td>37</td>\n",
       "      <td>9.00</td>\n",
       "      <td>118636.92</td>\n",
       "      <td>1</td>\n",
       "      <td>1</td>\n",
       "      <td>1</td>\n",
       "      <td>73551.44</td>\n",
       "      <td>0</td>\n",
       "      <td>0</td>\n",
       "      <td>0</td>\n",
       "      <td>1</td>\n",
       "    </tr>\n",
       "  </tbody>\n",
       "</table>\n",
       "</div>"
      ],
      "text/plain": [
       "      CreditScore  Age  Tenure   Balance  NumOfProducts  HasCrCard  \\\n",
       "1993          824   60    8.00 134250.17              3          0   \n",
       "3023          618   39    2.00  91068.56              1          1   \n",
       "396           557   33    3.00  54503.55              1          1   \n",
       "8888          743   23    3.00 110203.77              1          1   \n",
       "1694          541   37    9.00 118636.92              1          1   \n",
       "\n",
       "      IsActiveMember  EstimatedSalary  Exited  Geography_Germany  \\\n",
       "1993               0        153046.16       1                  1   \n",
       "3023               0         26578.69       0                  0   \n",
       "396                1           371.05       0                  0   \n",
       "8888               0         95583.45       0                  0   \n",
       "1694               1         73551.44       0                  0   \n",
       "\n",
       "      Geography_Spain  Gender_Male  \n",
       "1993                0            1  \n",
       "3023                0            1  \n",
       "396                 0            1  \n",
       "8888                0            1  \n",
       "1694                0            1  "
      ]
     },
     "metadata": {},
     "output_type": "display_data"
    },
    {
     "data": {
      "text/html": [
       "<div>\n",
       "<style scoped>\n",
       "    .dataframe tbody tr th:only-of-type {\n",
       "        vertical-align: middle;\n",
       "    }\n",
       "\n",
       "    .dataframe tbody tr th {\n",
       "        vertical-align: top;\n",
       "    }\n",
       "\n",
       "    .dataframe thead th {\n",
       "        text-align: right;\n",
       "    }\n",
       "</style>\n",
       "<table border=\"1\" class=\"dataframe\">\n",
       "  <thead>\n",
       "    <tr style=\"text-align: right;\">\n",
       "      <th></th>\n",
       "      <th>CreditScore</th>\n",
       "      <th>Age</th>\n",
       "      <th>Tenure</th>\n",
       "      <th>Balance</th>\n",
       "      <th>NumOfProducts</th>\n",
       "      <th>HasCrCard</th>\n",
       "      <th>IsActiveMember</th>\n",
       "      <th>EstimatedSalary</th>\n",
       "      <th>Exited</th>\n",
       "      <th>Geography_Germany</th>\n",
       "      <th>Geography_Spain</th>\n",
       "      <th>Gender_Male</th>\n",
       "    </tr>\n",
       "  </thead>\n",
       "  <tbody>\n",
       "    <tr>\n",
       "      <th>9138</th>\n",
       "      <td>578</td>\n",
       "      <td>59</td>\n",
       "      <td>10.00</td>\n",
       "      <td>185966.64</td>\n",
       "      <td>1</td>\n",
       "      <td>0</td>\n",
       "      <td>0</td>\n",
       "      <td>9445.42</td>\n",
       "      <td>1</td>\n",
       "      <td>0</td>\n",
       "      <td>0</td>\n",
       "      <td>1</td>\n",
       "    </tr>\n",
       "    <tr>\n",
       "      <th>4399</th>\n",
       "      <td>670</td>\n",
       "      <td>45</td>\n",
       "      <td>9.00</td>\n",
       "      <td>104930.38</td>\n",
       "      <td>1</td>\n",
       "      <td>1</td>\n",
       "      <td>0</td>\n",
       "      <td>155921.81</td>\n",
       "      <td>1</td>\n",
       "      <td>0</td>\n",
       "      <td>0</td>\n",
       "      <td>0</td>\n",
       "    </tr>\n",
       "    <tr>\n",
       "      <th>3299</th>\n",
       "      <td>825</td>\n",
       "      <td>34</td>\n",
       "      <td>9.00</td>\n",
       "      <td>0.00</td>\n",
       "      <td>2</td>\n",
       "      <td>1</td>\n",
       "      <td>1</td>\n",
       "      <td>31933.06</td>\n",
       "      <td>0</td>\n",
       "      <td>0</td>\n",
       "      <td>0</td>\n",
       "      <td>1</td>\n",
       "    </tr>\n",
       "    <tr>\n",
       "      <th>3121</th>\n",
       "      <td>634</td>\n",
       "      <td>27</td>\n",
       "      <td>3.00</td>\n",
       "      <td>107027.52</td>\n",
       "      <td>1</td>\n",
       "      <td>1</td>\n",
       "      <td>0</td>\n",
       "      <td>173425.68</td>\n",
       "      <td>0</td>\n",
       "      <td>1</td>\n",
       "      <td>0</td>\n",
       "      <td>1</td>\n",
       "    </tr>\n",
       "    <tr>\n",
       "      <th>436</th>\n",
       "      <td>627</td>\n",
       "      <td>30</td>\n",
       "      <td>4.00</td>\n",
       "      <td>79871.02</td>\n",
       "      <td>2</td>\n",
       "      <td>1</td>\n",
       "      <td>0</td>\n",
       "      <td>129826.89</td>\n",
       "      <td>0</td>\n",
       "      <td>1</td>\n",
       "      <td>0</td>\n",
       "      <td>0</td>\n",
       "    </tr>\n",
       "  </tbody>\n",
       "</table>\n",
       "</div>"
      ],
      "text/plain": [
       "      CreditScore  Age  Tenure   Balance  NumOfProducts  HasCrCard  \\\n",
       "9138          578   59   10.00 185966.64              1          0   \n",
       "4399          670   45    9.00 104930.38              1          1   \n",
       "3299          825   34    9.00      0.00              2          1   \n",
       "3121          634   27    3.00 107027.52              1          1   \n",
       "436           627   30    4.00  79871.02              2          1   \n",
       "\n",
       "      IsActiveMember  EstimatedSalary  Exited  Geography_Germany  \\\n",
       "9138               0          9445.42       1                  0   \n",
       "4399               0        155921.81       1                  0   \n",
       "3299               1         31933.06       0                  0   \n",
       "3121               0        173425.68       0                  1   \n",
       "436                0        129826.89       0                  1   \n",
       "\n",
       "      Geography_Spain  Gender_Male  \n",
       "9138                0            1  \n",
       "4399                0            0  \n",
       "3299                0            1  \n",
       "3121                0            1  \n",
       "436                 0            0  "
      ]
     },
     "metadata": {},
     "output_type": "display_data"
    }
   ],
   "source": [
    "train, validate, test = \\\n",
    "              np.split(df_ohe.sample(frac=1, random_state=12345), \n",
    "                       [int(.6*len(df)), int(.8*len(df))])\n",
    "display(train.shape)\n",
    "display(validate.shape)\n",
    "display(test.shape)\n",
    "\n",
    "display(train.head())\n",
    "display(validate.head())\n",
    "display(test.head())\n",
    "\n"
   ]
  },
  {
   "cell_type": "markdown",
   "metadata": {},
   "source": [
    "<div class=\"alert alert-success\">\n",
    "<h2>Комментарий ревьюера<a class=\"tocSkip\"></a></h2>\n",
    "    \n",
    "**Отлично!** ✔️: с размерами выборок все окей :)</div>"
   ]
  },
  {
   "cell_type": "markdown",
   "metadata": {},
   "source": [
    "<div class=\"alert alert-warning\">\n",
    "<h2>Комментарий ревьюера<a class=\"tocSkip\"></a></h2>\n",
    "    \n",
    "**Есть совет** ⚠️: так как в целевом признаке есть дисбаланс, выборки лучше стратифицировать с помощью параметра **stratify**, тогда здесь лучше использовать train_test_split. Так у тебя точно не возникнет ситуации, когда, например, в тестовой выборке соотношение классов будет сильно отличаться от соотношения в обучающей выборке\n",
    "\n",
    "Подробнее про стратификацию:\n",
    "* https://stackoverflow.com/questions/29438265/stratified-train-test-split-in-scikit-learn\n",
    "* https://realpython.com/train-test-split-python-data/#application-of-train_test_split    \n",
    "* https://habr.com/ru/post/496750/\n",
    "* https://habr.com/ru/company/X5Group/blog/596279/\n",
    "</div>"
   ]
  },
  {
   "cell_type": "markdown",
   "metadata": {},
   "source": [
    "<div class=\"alert alert-info\">\n",
    "    <b>Комментарий студента:</b> хорошо, поняла"
   ]
  },
  {
   "cell_type": "markdown",
   "metadata": {},
   "source": [
    "<div class=\"alert alert-success\">\n",
    "<h2>Комментарий ревьюера v2<a class=\"tocSkip\"></a></h2>\n",
    "    \n",
    "**Отлично!** ✔️: 👍</div>"
   ]
  },
  {
   "cell_type": "markdown",
   "metadata": {},
   "source": [
    "<div class=\"alert alert-warning\">\n",
    "<h2>Комментарий ревьюера <a class=\"tocSkip\"></a></h2>\n",
    "    \n",
    "**Есть совет** ⚠️: значение random_state лучше вынести в константу, например, RANDOM_STATE. Это общее правило код-стайла не только в Практикуме, а в большинстве языков программирования: мы выносим все константные значения в переменные/константы с читаемым названием и именуем, согласно стандартам PEP-8, заглавными буквами. Так проще читать и дебажить код. Это не обязательное условие, просто полезная привычка на будущее</div>"
   ]
  },
  {
   "cell_type": "markdown",
   "metadata": {},
   "source": [
    "<div class=\"alert alert-info\">\n",
    "    <b>Комментарий студента:</b> ок, ты имеешь в виду везде, где я пишу random_state писать это заглавными буквами? или как с импортами закрепить значение random_state где-то в начале? не понимаю:)\n",
    "    \n",
    "    RANDOM_STATE = 12345\n",
    "</div>"
   ]
  },
  {
   "cell_type": "markdown",
   "metadata": {},
   "source": [
    "<div class=\"alert alert-success\">\n",
    "<h2>Комментарий ревьюера v2<a class=\"tocSkip\"></a></h2>\n",
    "    \n",
    "**Отлично!** ✔️: все верно, достаточно создать новую переменную, например, RANDOM_STATE и объявить ее либо в блоке с импортами, либо перед использованием, как тебе удобнее :)</div>"
   ]
  },
  {
   "cell_type": "code",
   "execution_count": 18,
   "metadata": {},
   "outputs": [
    {
     "name": "stdout",
     "output_type": "stream",
     "text": [
      "(5454, 11)\n",
      "(1818, 11)\n",
      "(1819, 11)\n"
     ]
    }
   ],
   "source": [
    "features_train = train.drop('Exited', axis=1)\n",
    "target_train = train['Exited']\n",
    "\n",
    "features_valid = validate.drop('Exited', axis=1)\n",
    "target_valid = validate['Exited']\n",
    "\n",
    "features_test = test.drop('Exited', axis=1)\n",
    "target_test = test['Exited']\n",
    "\n",
    "print(features_train.shape)\n",
    "print(features_valid.shape)\n",
    "print(features_test.shape)\n"
   ]
  },
  {
   "cell_type": "code",
   "execution_count": 19,
   "metadata": {
    "scrolled": true
   },
   "outputs": [
    {
     "name": "stdout",
     "output_type": "stream",
     "text": [
      "      CreditScore   Age  Tenure  Balance  NumOfProducts  HasCrCard  \\\n",
      "862          0.75  0.19    0.69     0.60          -0.92          1   \n",
      "9727        -1.27  0.57   -1.39    -1.22          -0.92          0   \n",
      "1717         0.57 -0.37   -0.70    -0.31          -0.92          1   \n",
      "8640         0.81 -0.66    1.38     0.82          -0.92          0   \n",
      "5288        -0.73 -0.84   -1.05    -1.22           0.79          1   \n",
      "\n",
      "      IsActiveMember  EstimatedSalary  Geography_Germany  Geography_Spain  \\\n",
      "862                1             0.30                  0                0   \n",
      "9727               1             1.58                  0                0   \n",
      "1717               0            -1.42                  0                1   \n",
      "8640               0            -0.68                  0                0   \n",
      "5288               1             0.56                  0                0   \n",
      "\n",
      "      Gender_Male  \n",
      "862             1  \n",
      "9727            0  \n",
      "1717            0  \n",
      "8640            0  \n",
      "5288            1  \n"
     ]
    }
   ],
   "source": [
    "numeric = ['CreditScore', 'Age', 'Tenure', 'Balance', 'NumOfProducts', 'EstimatedSalary']\n",
    "\n",
    "scaler = StandardScaler()\n",
    "scaler.fit(features_train[numeric])\n",
    "\n",
    "features_train[numeric] = scaler.transform(features_train[numeric])\n",
    "features_valid[numeric] = scaler.transform(features_valid[numeric])\n",
    "features_test[numeric] = scaler.transform(features_test[numeric])\n",
    "\n",
    "print(features_train.head())"
   ]
  },
  {
   "cell_type": "markdown",
   "metadata": {},
   "source": [
    "<div class=\"alert alert-success\">\n",
    "<h2>Комментарий ревьюера<a class=\"tocSkip\"></a></h2>\n",
    "    \n",
    "**Отлично!** ✔️: хорошо, что не забываешь про масштабирование!</div>"
   ]
  },
  {
   "cell_type": "markdown",
   "metadata": {},
   "source": [
    "Данные подготовлены для исследования: нужные категориальные данные переведены в числовые методом прямого кодирования . Числовые переменные стандартизированы и приведены к одному масштабу. Удалены строки с пустыми и дублирующими значениями. Датасет разделен на 3 части в соотношении 3:1:1."
   ]
  },
  {
   "cell_type": "markdown",
   "metadata": {},
   "source": [
    "## Исследование задачи"
   ]
  },
  {
   "cell_type": "code",
   "execution_count": 20,
   "metadata": {
    "scrolled": true
   },
   "outputs": [
    {
     "data": {
      "text/plain": [
       "CreditScore          7237\n",
       "Age                  7237\n",
       "Tenure               7237\n",
       "Balance              7237\n",
       "NumOfProducts        7237\n",
       "HasCrCard            7237\n",
       "IsActiveMember       7237\n",
       "EstimatedSalary      7237\n",
       "Exited               7237\n",
       "Geography_Germany    7237\n",
       "Geography_Spain      7237\n",
       "Gender_Male          7237\n",
       "dtype: int64"
      ]
     },
     "execution_count": 20,
     "metadata": {},
     "output_type": "execute_result"
    }
   ],
   "source": [
    "df_ohe[df_ohe['Exited'] == 0].count()"
   ]
  },
  {
   "cell_type": "code",
   "execution_count": 21,
   "metadata": {
    "scrolled": true
   },
   "outputs": [
    {
     "data": {
      "text/plain": [
       "CreditScore          1854\n",
       "Age                  1854\n",
       "Tenure               1854\n",
       "Balance              1854\n",
       "NumOfProducts        1854\n",
       "HasCrCard            1854\n",
       "IsActiveMember       1854\n",
       "EstimatedSalary      1854\n",
       "Exited               1854\n",
       "Geography_Germany    1854\n",
       "Geography_Spain      1854\n",
       "Gender_Male          1854\n",
       "dtype: int64"
      ]
     },
     "execution_count": 21,
     "metadata": {},
     "output_type": "execute_result"
    }
   ],
   "source": [
    "df_ohe[df_ohe['Exited'] == 1].count()"
   ]
  },
  {
   "cell_type": "code",
   "execution_count": 22,
   "metadata": {
    "scrolled": false
   },
   "outputs": [
    {
     "data": {
      "text/plain": [
       "<AxesSubplot:>"
      ]
     },
     "execution_count": 22,
     "metadata": {},
     "output_type": "execute_result"
    },
    {
     "data": {
      "image/png": "[encoded data removed]",
      "text/plain": [
       "<Figure size 432x288 with 1 Axes>"
      ]
     },
     "metadata": {
      "needs_background": "light"
     },
     "output_type": "display_data"
    }
   ],
   "source": [
    "df_ohe['Exited'].hist()\n",
    "\n"
   ]
  },
  {
   "cell_type": "code",
   "execution_count": 23,
   "metadata": {},
   "outputs": [
    {
     "data": {
      "image/png": "[encoded data removed]",
      "text/plain": [
       "<Figure size 432x288 with 1 Axes>"
      ]
     },
     "metadata": {},
     "output_type": "display_data"
    }
   ],
   "source": [
    "plt.pie(df_ohe['Exited'])\n",
    "plt.show()"
   ]
  },
  {
   "cell_type": "markdown",
   "metadata": {},
   "source": [
    "В данных наблюдается дисбаланс классов, положительных ответов меньше практически в 4 раза. Построим 3 модели машинного обучения без корректировки дисбаланса, выявим  лучшую на основе тестовых данных."
   ]
  },
  {
   "cell_type": "markdown",
   "metadata": {},
   "source": [
    "<div class=\"alert alert-success\">\n",
    "<h2>Комментарий ревьюера<a class=\"tocSkip\"></a></h2>\n",
    "    \n",
    "**Отлично!** ✔️: все так, жуткий дисбаланс</div>"
   ]
  },
  {
   "cell_type": "markdown",
   "metadata": {},
   "source": [
    "<div class=\"alert alert-warning\">\n",
    "<h2>Комментарий ревьюера<a class=\"tocSkip\"></a></h2>\n",
    "    \n",
    "**Есть совет** ⚠️: для большей наглядности можно еще добавить график: например, столбчатую или круговую диаграмму</div>"
   ]
  },
  {
   "cell_type": "markdown",
   "metadata": {},
   "source": [
    "<div class=\"alert alert-info\">\n",
    "    <b>Комментарий студента:</b> Алексей, подскажи, пожалуйста, как можно построить график для Exited, у меня получается нечто странное, адекватно сейчас выглядит только гистограмма, но у нее же другие роли в визуализации"
   ]
  },
  {
   "cell_type": "markdown",
   "metadata": {},
   "source": [
    "<div class=\"alert alert-warning\">\n",
    "<h2>Комментарий ревьюера v2<a class=\"tocSkip\"></a></h2>\n",
    "    \n",
    "**Есть совет** ⚠️: гистограмма здесь тоже подойдет, хотя круговая диаграмма действительно будет нагляднее, тогда ее можно построить, например, так:\n",
    "\n",
    "    df['Exited'].value_counts(normalize=True).plot(kind='pie', autopct = \"%0.0f%%\", figsize=(6, 6))\n",
    "    plt.show()\n",
    "</div>"
   ]
  },
  {
   "cell_type": "markdown",
   "metadata": {},
   "source": [
    "**Дерево решений**"
   ]
  },
  {
   "cell_type": "code",
   "execution_count": 24,
   "metadata": {
    "scrolled": true
   },
   "outputs": [
    {
     "name": "stdout",
     "output_type": "stream",
     "text": [
      "F-1 мера лучшей модели DecisionTreeClassifier на валидационной выборке: 0.5423728813559322\n",
      "Лучшая модель DecisionTree: DecisionTreeClassifier(max_depth=7, random_state=12345)\n"
     ]
    }
   ],
   "source": [
    "best_decision_tree_model = None\n",
    "best_decision_tree_model_result = 0\n",
    "for depth in range(1, 9):\n",
    "\tdecision_tree_model = DecisionTreeClassifier(random_state=12345, max_depth=depth) \n",
    "\tdecision_tree_model.fit(features_train, target_train)\n",
    "\tpredictions_decision_tree = decision_tree_model.predict(features_valid) \n",
    "\tresult = f1_score(target_valid, predictions_decision_tree) \n",
    "\tif result > best_decision_tree_model_result:\n",
    "\t\tbest_decision_tree_model = decision_tree_model\n",
    "\t\tbest_decision_tree_model_result = result\n",
    "        \n",
    "print(\"F-1 мера лучшей модели DecisionTreeClassifier на валидационной выборке:\", best_decision_tree_model_result)\n",
    "print('Лучшая модель DecisionTree:', best_decision_tree_model)\n",
    "\n"
   ]
  },
  {
   "cell_type": "code",
   "execution_count": 25,
   "metadata": {},
   "outputs": [
    {
     "name": "stdout",
     "output_type": "stream",
     "text": [
      "0.8050897151264349\n"
     ]
    }
   ],
   "source": [
    "probabilities_valid = decision_tree_model.predict_proba(features_valid)\n",
    "probabilities_one_valid = probabilities_valid[:, 1]\n",
    "\n",
    "auc_roc = roc_auc_score(target_valid, probabilities_one_valid)\n",
    "\n",
    "print(auc_roc)\n"
   ]
  },
  {
   "cell_type": "markdown",
   "metadata": {},
   "source": [
    "**Случайный лес**"
   ]
  },
  {
   "cell_type": "code",
   "execution_count": 26,
   "metadata": {
    "scrolled": true
   },
   "outputs": [
    {
     "name": "stdout",
     "output_type": "stream",
     "text": [
      "RandomForestClassifier(max_depth=2, n_estimators=10, random_state=12345) 0.15632183908045974\n",
      "RandomForestClassifier(max_depth=3, n_estimators=10, random_state=12345) 0.20444444444444443\n",
      "RandomForestClassifier(max_depth=4, n_estimators=10, random_state=12345) 0.4493554327808471\n",
      "RandomForestClassifier(max_depth=5, n_estimators=10, random_state=12345) 0.49134948096885805\n",
      "RandomForestClassifier(max_depth=6, n_estimators=10, random_state=12345) 0.5034013605442177\n",
      "RandomForestClassifier(max_depth=7, n_estimators=10, random_state=12345) 0.5247524752475248\n",
      "RandomForestClassifier(max_depth=8, n_estimators=10, random_state=12345) 0.5422077922077922\n",
      "RandomForestClassifier(max_depth=9, n_estimators=10, random_state=12345) 0.5471999999999999\n",
      "RandomForestClassifier(max_depth=11, n_estimators=10, random_state=12345) 0.5541795665634675\n",
      "RandomForestClassifier(max_depth=15, n_estimators=10, random_state=12345) 0.557427258805513\n",
      "RandomForestClassifier(max_depth=11, n_estimators=20, random_state=12345) 0.562111801242236\n",
      "RandomForestClassifier(max_depth=12, n_estimators=30, random_state=12345) 0.5687203791469194\n",
      "RandomForestClassifier(max_depth=15, n_estimators=40, random_state=12345) 0.5736434108527131\n",
      "F1-мера лучшей модели RandomForest на валидационной выборке: 0.5736434108527131\n",
      "40\n",
      "15\n",
      "CPU times: user 56.5 s, sys: 348 ms, total: 56.8 s\n",
      "Wall time: 56.9 s\n"
     ]
    }
   ],
   "source": [
    "%%time\n",
    "\n",
    "best_random_forest_model = None\n",
    "best_random_forest_model_result = 0\n",
    "best_est = 0\n",
    "best_depth = 0\n",
    "\n",
    "for est in range(10, 101, 10):\n",
    "    for depth in range(1, 21):\n",
    "        random_forest_model = RandomForestClassifier(random_state=12345, n_estimators=est, max_depth=depth)\n",
    "        random_forest_model.fit(features_train, target_train) \n",
    "        predictions_random_forest = random_forest_model.predict(features_valid)\n",
    "        result = f1_score(target_valid, predictions_random_forest) \n",
    "        if result > best_random_forest_model_result:\n",
    "            best_random_forest_model = random_forest_model \n",
    "            best_random_forest_model_result = result\n",
    "            best_est = est\n",
    "            best_depth = depth\n",
    "            \n",
    "            print(random_forest_model, end=' ')\n",
    "            print(result)\n",
    "\n",
    "print('F1-мера лучшей модели RandomForest на валидационной выборке:', best_random_forest_model_result)\n",
    "print(best_est)\n",
    "print(best_depth)"
   ]
  },
  {
   "cell_type": "code",
   "execution_count": 27,
   "metadata": {},
   "outputs": [
    {
     "name": "stdout",
     "output_type": "stream",
     "text": [
      "0.843562394357988\n"
     ]
    }
   ],
   "source": [
    "probabilities_valid = random_forest_model.predict_proba(features_valid)\n",
    "probabilities_one_valid = probabilities_valid[:, 1]\n",
    "\n",
    "auc_roc = roc_auc_score(target_valid, probabilities_one_valid)\n",
    "\n",
    "print(auc_roc)"
   ]
  },
  {
   "cell_type": "markdown",
   "metadata": {},
   "source": [
    "**Логистическая регрессия**"
   ]
  },
  {
   "cell_type": "code",
   "execution_count": 28,
   "metadata": {
    "scrolled": false
   },
   "outputs": [
    {
     "name": "stdout",
     "output_type": "stream",
     "text": [
      "F1- мера модели LogisticRegression на валидационной выборке: 0.3244206773618538\n"
     ]
    }
   ],
   "source": [
    "from joblib import dump\n",
    "\n",
    "logistic_regression_model = LogisticRegression(random_state=12345, solver='liblinear')\n",
    "logistic_regression_model.fit(features_train, target_train)\n",
    "\n",
    "predictions_logistic_regression = logistic_regression_model.predict(features_valid)\n",
    "dump(logistic_regression_model, 'model_9_1.joblib')\n",
    "logistic_regression_f1  = f1_score(target_valid, predictions_logistic_regression) \n",
    "\n",
    "print('F1- мера модели LogisticRegression на валидационной выборке:', logistic_regression_f1)\n",
    "\n"
   ]
  },
  {
   "cell_type": "code",
   "execution_count": 29,
   "metadata": {},
   "outputs": [
    {
     "name": "stdout",
     "output_type": "stream",
     "text": [
      "0.7521287362168636\n"
     ]
    }
   ],
   "source": [
    "probabilities_valid = logistic_regression_model.predict_proba(features_valid)\n",
    "probabilities_one_valid = probabilities_valid[:, 1]\n",
    "\n",
    "auc_roc = roc_auc_score(target_valid, probabilities_one_valid)\n",
    "\n",
    "print(auc_roc)"
   ]
  },
  {
   "cell_type": "markdown",
   "metadata": {},
   "source": [
    "На валидационных данных без корректировки дисбаланса лучший показатель F-1 меры у модели случайного леса = 0.57, при этом AUC-ROC составляет 0.79.  "
   ]
  },
  {
   "cell_type": "markdown",
   "metadata": {},
   "source": [
    "<div class=\"alert alert-success\">\n",
    "<h2>Комментарий ревьюера<a class=\"tocSkip\"></a></h2>\n",
    "    \n",
    "**Отлично!** ✔️: верно, посмотрим, как повлияет борьба с дисбалансом</div>"
   ]
  },
  {
   "cell_type": "markdown",
   "metadata": {},
   "source": [
    "## Борьба с дисбалансом"
   ]
  },
  {
   "cell_type": "markdown",
   "metadata": {},
   "source": [
    "Попытаемся улучшить результаты после корректировки балансов. Воспользуемся взвешиванием классов, увеличением или уменьшением выборки, изменением порогов."
   ]
  },
  {
   "cell_type": "markdown",
   "metadata": {},
   "source": [
    "**Взвешивание классов**"
   ]
  },
  {
   "cell_type": "markdown",
   "metadata": {},
   "source": [
    "**Дерево решений**"
   ]
  },
  {
   "cell_type": "code",
   "execution_count": 30,
   "metadata": {
    "scrolled": false
   },
   "outputs": [
    {
     "name": "stdout",
     "output_type": "stream",
     "text": [
      "F-1 мера лучшей модели DecisionTreeClassifier на валидационной выборке: 0.5755693581780539\n",
      "Лучшая модель DecisionTree: DecisionTreeClassifier(class_weight='balanced', max_depth=7, random_state=12345)\n"
     ]
    }
   ],
   "source": [
    "best_decision_tree_model = None\n",
    "best_decision_tree_model_result = 0\n",
    "for depth in range(1, 9):\n",
    "\tdecision_tree_model = DecisionTreeClassifier(random_state=12345, max_depth=depth, class_weight='balanced') \n",
    "\tdecision_tree_model.fit(features_train, target_train)\n",
    "\tpredictions_decision_tree = decision_tree_model.predict(features_valid) \n",
    "\tresult = f1_score(target_valid, predictions_decision_tree) \n",
    "\tif result > best_decision_tree_model_result:\n",
    "\t\tbest_decision_tree_model = decision_tree_model\n",
    "\t\tbest_decision_tree_model_result = result\n",
    "        \n",
    "print(\"F-1 мера лучшей модели DecisionTreeClassifier на валидационной выборке:\", best_decision_tree_model_result)\n",
    "print('Лучшая модель DecisionTree:', best_decision_tree_model)\n"
   ]
  },
  {
   "cell_type": "code",
   "execution_count": 31,
   "metadata": {},
   "outputs": [
    {
     "name": "stdout",
     "output_type": "stream",
     "text": [
      "0.7758923383158389\n"
     ]
    }
   ],
   "source": [
    "probabilities_valid = decision_tree_model.predict_proba(features_valid)\n",
    "probabilities_one_valid = probabilities_valid[:, 1]\n",
    "\n",
    "auc_roc = roc_auc_score(target_valid, probabilities_one_valid)\n",
    "\n",
    "print(auc_roc)\n"
   ]
  },
  {
   "cell_type": "markdown",
   "metadata": {},
   "source": [
    "**Случайный лес**"
   ]
  },
  {
   "cell_type": "code",
   "execution_count": 32,
   "metadata": {
    "scrolled": true
   },
   "outputs": [
    {
     "name": "stdout",
     "output_type": "stream",
     "text": [
      "RandomForestClassifier(class_weight='balanced', max_depth=1, n_estimators=10,\n",
      "                       random_state=12345) 0.5212527964205815\n",
      "RandomForestClassifier(class_weight='balanced', max_depth=2, n_estimators=10,\n",
      "                       random_state=12345) 0.5473908413205537\n",
      "RandomForestClassifier(class_weight='balanced', max_depth=3, n_estimators=10,\n",
      "                       random_state=12345) 0.5653495440729484\n",
      "RandomForestClassifier(class_weight='balanced', max_depth=4, n_estimators=10,\n",
      "                       random_state=12345) 0.576882290562036\n",
      "RandomForestClassifier(class_weight='balanced', max_depth=5, n_estimators=10,\n",
      "                       random_state=12345) 0.5819761129207383\n",
      "RandomForestClassifier(class_weight='balanced', max_depth=6, n_estimators=10,\n",
      "                       random_state=12345) 0.5910112359550562\n",
      "RandomForestClassifier(class_weight='balanced', max_depth=7, n_estimators=10,\n",
      "                       random_state=12345) 0.5959367945823928\n",
      "RandomForestClassifier(class_weight='balanced', max_depth=9, n_estimators=20,\n",
      "                       random_state=12345) 0.6014492753623188\n",
      "RandomForestClassifier(class_weight='balanced', max_depth=9, n_estimators=30,\n",
      "                       random_state=12345) 0.601684717208183\n",
      "RandomForestClassifier(class_weight='balanced', max_depth=6, random_state=12345) 0.6019629225736096\n",
      "F1-мера лучшей модели RandomForest на валидационной выборке: 0.6019629225736096\n",
      "100\n",
      "6\n",
      "CPU times: user 56.8 s, sys: 304 ms, total: 57.1 s\n",
      "Wall time: 57.3 s\n"
     ]
    }
   ],
   "source": [
    "%%time\n",
    "\n",
    "best_random_forest_model = None\n",
    "best_random_forest_model_result = 0\n",
    "best_est = 0\n",
    "best_depth = 0\n",
    "\n",
    "for est in range(10, 101, 10):\n",
    "    for depth in range(1, 21):\n",
    "        random_forest_model = RandomForestClassifier(random_state=12345, n_estimators=est, \n",
    "                                                     max_depth=depth, class_weight='balanced')\n",
    "        random_forest_model.fit(features_train, target_train) \n",
    "        predictions_random_forest = random_forest_model.predict(features_valid)\n",
    "        result = f1_score(target_valid, predictions_random_forest) \n",
    "        if result > best_random_forest_model_result:\n",
    "            best_random_forest_model = random_forest_model \n",
    "            best_random_forest_model_result = result\n",
    "            best_est = est\n",
    "            best_depth = depth\n",
    "            \n",
    "            print(random_forest_model, end=' ')\n",
    "            print(result)\n",
    "\n",
    "print('F1-мера лучшей модели RandomForest на валидационной выборке:', best_random_forest_model_result)\n",
    "print(best_est)\n",
    "print(best_depth)"
   ]
  },
  {
   "cell_type": "code",
   "execution_count": 33,
   "metadata": {},
   "outputs": [
    {
     "name": "stdout",
     "output_type": "stream",
     "text": [
      "0.8460147903232359\n"
     ]
    }
   ],
   "source": [
    "probabilities_valid = random_forest_model.predict_proba(features_valid)\n",
    "probabilities_one_valid = probabilities_valid[:, 1]\n",
    "\n",
    "auc_roc = roc_auc_score(target_valid, probabilities_one_valid)\n",
    "\n",
    "print(auc_roc)"
   ]
  },
  {
   "cell_type": "markdown",
   "metadata": {},
   "source": [
    "**Логистическая регрессия**"
   ]
  },
  {
   "cell_type": "code",
   "execution_count": 34,
   "metadata": {
    "scrolled": false
   },
   "outputs": [
    {
     "name": "stdout",
     "output_type": "stream",
     "text": [
      "F1- мера модели LogisticRegression на валидационной выборке: 0.5052430886558628\n"
     ]
    }
   ],
   "source": [
    "logistic_regression_model = LogisticRegression(random_state=12345, solver='liblinear', \n",
    "                                               class_weight='balanced')\n",
    "logistic_regression_model.fit(features_train, target_train)\n",
    "\n",
    "predictions_logistic_regression = logistic_regression_model.predict(features_valid)\n",
    "dump(logistic_regression_model, 'model_9_1.joblib')\n",
    "logistic_regression_f1  = f1_score(target_valid, predictions_logistic_regression) \n",
    "\n",
    "print('F1- мера модели LogisticRegression на валидационной выборке:', logistic_regression_f1)\n",
    "\n"
   ]
  },
  {
   "cell_type": "code",
   "execution_count": 35,
   "metadata": {},
   "outputs": [
    {
     "name": "stdout",
     "output_type": "stream",
     "text": [
      "0.7555304752367176\n"
     ]
    }
   ],
   "source": [
    "probabilities_valid = logistic_regression_model.predict_proba(features_valid)\n",
    "probabilities_one_valid = probabilities_valid[:, 1]\n",
    "\n",
    "auc_roc = roc_auc_score(target_valid, probabilities_one_valid)\n",
    "\n",
    "print(auc_roc)"
   ]
  },
  {
   "cell_type": "markdown",
   "metadata": {},
   "source": [
    "Взвешивание классов сильно помогло логистической регрессии, ее показатель вырос с 0.3 до 0.5, но это все равно не дотягивает до нужного нам уровня. После взвешивания классов модель случайного случайного смогла показать F-1 равный 0.6, при этом AUC-ROC тоже улучшился на 0.05."
   ]
  },
  {
   "cell_type": "markdown",
   "metadata": {},
   "source": [
    "<div class=\"alert alert-success\">\n",
    "<h2>Комментарий ревьюера<a class=\"tocSkip\"></a></h2>\n",
    "    \n",
    "**Отлично!** ✔️: 👍</div>"
   ]
  },
  {
   "cell_type": "markdown",
   "metadata": {},
   "source": [
    "**Увеличение выборки**"
   ]
  },
  {
   "cell_type": "code",
   "execution_count": 36,
   "metadata": {
    "scrolled": false
   },
   "outputs": [
    {
     "name": "stdout",
     "output_type": "stream",
     "text": [
      "(7654, 11)\n",
      "(7654,)\n"
     ]
    }
   ],
   "source": [
    "from sklearn.utils import shuffle\n",
    "\n",
    "def upsample(features, target, repeat):\n",
    "    features_zeros = features[target == 0]\n",
    "    features_ones = features[target == 1]\n",
    "    target_zeros = target[target == 0]\n",
    "    target_ones = target[target == 1]\n",
    "\n",
    "    features_upsampled = pd.concat([features_zeros] + [features_ones] * repeat)\n",
    "    target_upsampled = pd.concat([target_zeros] + [target_ones] * repeat)\n",
    "    \n",
    "    features_upsampled, target_upsampled = shuffle(\n",
    "        features_upsampled, target_upsampled, random_state=12345)\n",
    "    \n",
    "    return features_upsampled, target_upsampled\n",
    "\n",
    "features_upsampled, target_upsampled = upsample(features_train, target_train, 3)\n",
    "\n",
    "print(features_upsampled.shape)\n",
    "print(target_upsampled.shape)\n",
    "\n"
   ]
  },
  {
   "cell_type": "markdown",
   "metadata": {},
   "source": [
    "<div class=\"alert alert-warning\">\n",
    "<h2>Комментарий ревьюера<a class=\"tocSkip\"></a></h2>\n",
    "    \n",
    "**Есть совет** ⚠️: так как соотношение классов в исходной выборке примерно 1:4, то и увеличить меньшую выборку необходимо в 4 раза. Для наглядности и самоконтроля можно вывести соотношение классов после увеличения на экран, здесь поможет метод `value_counts` с параметром `normalize=True`</div>"
   ]
  },
  {
   "cell_type": "code",
   "execution_count": 37,
   "metadata": {},
   "outputs": [
    {
     "data": {
      "text/plain": [
       "0   0.57\n",
       "1   0.43\n",
       "Name: Exited, dtype: float64"
      ]
     },
     "execution_count": 37,
     "metadata": {},
     "output_type": "execute_result"
    }
   ],
   "source": [
    "\n",
    "target_upsampled.value_counts(normalize=True)"
   ]
  },
  {
   "cell_type": "markdown",
   "metadata": {},
   "source": [
    "<div class=\"alert alert-info\">\n",
    "    <b>Комментарий студента:</b> хорошо, буду знать"
   ]
  },
  {
   "cell_type": "markdown",
   "metadata": {},
   "source": [
    "**Дерево решений**"
   ]
  },
  {
   "cell_type": "code",
   "execution_count": 38,
   "metadata": {
    "scrolled": true
   },
   "outputs": [
    {
     "name": "stdout",
     "output_type": "stream",
     "text": [
      "F1: 0.5741525423728814\n"
     ]
    }
   ],
   "source": [
    "\n",
    "decision_tree_model = DecisionTreeClassifier(max_depth=7, random_state=12345)\n",
    "decision_tree_model.fit(features_upsampled, target_upsampled)\n",
    "predicted_valid = decision_tree_model.predict(features_valid)\n",
    "print(\"F1:\", f1_score(target_valid, predicted_valid))"
   ]
  },
  {
   "cell_type": "markdown",
   "metadata": {},
   "source": [
    "<div class=\"alert alert-warning\">\n",
    "<h2>Комментарий ревьюера<a class=\"tocSkip\"></a></h2>\n",
    "    \n",
    "**Есть совет** ⚠️: в зависимости от примененного способа борьбы с дисбалансом, лучшими гиперпараметрами могут оказаться другие, поэтому правильнее их подбирать для каждого способа отдельно</div>"
   ]
  },
  {
   "cell_type": "markdown",
   "metadata": {},
   "source": [
    "<div class=\"alert alert-info\">\n",
    "    <b>Комментарий студента:</b>  поняла"
   ]
  },
  {
   "cell_type": "code",
   "execution_count": 39,
   "metadata": {},
   "outputs": [
    {
     "name": "stdout",
     "output_type": "stream",
     "text": [
      "0.8106718522875193\n"
     ]
    }
   ],
   "source": [
    "probabilities_valid = decision_tree_model.predict_proba(features_valid)\n",
    "probabilities_one_valid = probabilities_valid[:, 1]\n",
    "\n",
    "auc_roc = roc_auc_score(target_valid, probabilities_one_valid)\n",
    "\n",
    "print(auc_roc)"
   ]
  },
  {
   "cell_type": "markdown",
   "metadata": {},
   "source": [
    "**Случайный лес**"
   ]
  },
  {
   "cell_type": "code",
   "execution_count": 40,
   "metadata": {},
   "outputs": [
    {
     "name": "stdout",
     "output_type": "stream",
     "text": [
      "F1: 0.601684717208183\n"
     ]
    }
   ],
   "source": [
    "random_forest_model = RandomForestClassifier(random_state=12345, n_estimators=100,\n",
    "                                                      max_depth=6)\n",
    "random_forest_model.fit(features_upsampled, target_upsampled)\n",
    "predicted_valid = random_forest_model.predict(features_valid)\n",
    "print(\"F1:\", f1_score(target_valid, predicted_valid))"
   ]
  },
  {
   "cell_type": "code",
   "execution_count": 41,
   "metadata": {},
   "outputs": [
    {
     "name": "stdout",
     "output_type": "stream",
     "text": [
      "0.8462806063785256\n"
     ]
    }
   ],
   "source": [
    "probabilities_valid = random_forest_model.predict_proba(features_valid)\n",
    "probabilities_one_valid = probabilities_valid[:, 1]\n",
    "\n",
    "auc_roc = roc_auc_score(target_valid, probabilities_one_valid)\n",
    "\n",
    "print(auc_roc)"
   ]
  },
  {
   "cell_type": "markdown",
   "metadata": {},
   "source": [
    "**Логистическя регрессия**"
   ]
  },
  {
   "cell_type": "code",
   "execution_count": 42,
   "metadata": {
    "scrolled": true
   },
   "outputs": [
    {
     "name": "stdout",
     "output_type": "stream",
     "text": [
      "F1: 0.4884994523548741\n"
     ]
    }
   ],
   "source": [
    "logistic_regression_model = LogisticRegression(random_state=12345, solver='liblinear')\n",
    "logistic_regression_model.fit(features_upsampled, target_upsampled)\n",
    "predicted_valid = logistic_regression_model.predict(features_valid)\n",
    "print(\"F1:\", f1_score(target_valid, predicted_valid))"
   ]
  },
  {
   "cell_type": "code",
   "execution_count": 43,
   "metadata": {
    "scrolled": true
   },
   "outputs": [
    {
     "name": "stdout",
     "output_type": "stream",
     "text": [
      "0.7549652849530449\n"
     ]
    }
   ],
   "source": [
    "probabilities_valid = logistic_regression_model.predict_proba(features_valid)\n",
    "probabilities_one_valid = probabilities_valid[:, 1]\n",
    "\n",
    "auc_roc = roc_auc_score(target_valid, probabilities_one_valid)\n",
    "\n",
    "print(auc_roc)"
   ]
  },
  {
   "cell_type": "markdown",
   "metadata": {},
   "source": [
    "Увеличение выборки позволяет нам достичь таких же результатов, каких принес нам метод взвешивания с моделью случайного леса, F-1 = 0.6,  AUC-ROC = 0.846."
   ]
  },
  {
   "cell_type": "markdown",
   "metadata": {},
   "source": [
    "**Измнение порога**"
   ]
  },
  {
   "cell_type": "markdown",
   "metadata": {},
   "source": [
    "**Дерево решений**"
   ]
  },
  {
   "cell_type": "code",
   "execution_count": 44,
   "metadata": {
    "scrolled": true
   },
   "outputs": [
    {
     "name": "stdout",
     "output_type": "stream",
     "text": [
      "0.0   0.21871476888387825 0.9724310776942355 0.3571099861942016\n",
      "0.1   0.29109863672814756 0.9097744360902256 0.4410692588092345\n",
      "0.2   0.37988826815642457 0.8521303258145363 0.5255023183925811\n",
      "0.30000000000000004   0.4309859154929577 0.7669172932330827 0.5518485121731289\n",
      "0.4   0.46781789638932497 0.7468671679197995 0.5752895752895753\n",
      "0.5   0.4972477064220184 0.6791979949874687 0.5741525423728814\n",
      "0.6000000000000001   0.6129943502824858 0.543859649122807 0.5763612217795485\n",
      "0.7000000000000001   0.6450617283950617 0.5238095238095238 0.5781466113416321\n",
      "0.8   0.7309417040358744 0.40852130325814534 0.5241157556270097\n",
      "0.9   0.8222222222222222 0.2781954887218045 0.41573033707865165\n"
     ]
    }
   ],
   "source": [
    "decision_tree_model = DecisionTreeClassifier(max_depth=7, random_state=12345)\n",
    "decision_tree_model.fit(features_upsampled, target_upsampled)\n",
    "probabilities_valid = decision_tree_model.predict_proba(features_valid)\n",
    "probabilities_one_valid = probabilities_valid[:, 1]\n",
    "\n",
    "for threshold in np.arange(0, 1, 0.1):\n",
    "    predicted_valid = probabilities_one_valid > threshold \n",
    "    precision = precision_score(target_valid, predicted_valid) \n",
    "    recall = recall_score(target_valid, predicted_valid)\n",
    "    F_1 = f1_score(target_valid, predicted_valid)\n",
    "    \n",
    "\n",
    "    print(threshold, ' ', precision, recall, F_1)"
   ]
  },
  {
   "cell_type": "markdown",
   "metadata": {},
   "source": [
    "<div class=\"alert alert-warning\">\n",
    "<h2>Комментарий ревьюера<a class=\"tocSkip\"></a></h2>\n",
    "    \n",
    "**Есть совет** ⚠️: так как порог классификации может принимать любые значения от 0 до 1, то здесь стоит увеличить диапазон для его подбора</div>"
   ]
  },
  {
   "cell_type": "markdown",
   "metadata": {},
   "source": [
    "<div class=\"alert alert-info\">\n",
    "    <b>Комментарий студента:</b>  поняла"
   ]
  },
  {
   "cell_type": "code",
   "execution_count": 45,
   "metadata": {},
   "outputs": [
    {
     "name": "stdout",
     "output_type": "stream",
     "text": [
      "0.8106718522875193\n"
     ]
    }
   ],
   "source": [
    "auc_roc = roc_auc_score(target_valid, probabilities_one_valid)\n",
    "\n",
    "print(auc_roc)"
   ]
  },
  {
   "cell_type": "markdown",
   "metadata": {},
   "source": [
    "**Случайный лес**"
   ]
  },
  {
   "cell_type": "code",
   "execution_count": 57,
   "metadata": {
    "scrolled": true
   },
   "outputs": [
    {
     "name": "stdout",
     "output_type": "stream",
     "text": [
      "[0.91117993 0.31855031 0.23393242 ... 0.53247497 0.20026768 0.42835881]\n",
      "---\n",
      "[1 1 1 ... 1 1 1]\n",
      "0.0 0.21947194719471946 1.0 0.35994587280108253\n",
      "[1 1 1 ... 1 1 1]\n",
      "0.1 0.23374340949033393 1.0 0.3789173789173789\n",
      "[1 1 1 ... 1 1 1]\n",
      "0.2 0.293353705118411 0.9624060150375939 0.44964871194379397\n",
      "[1 1 0 ... 1 0 1]\n",
      "0.30000000000000004 0.3752642706131078 0.8897243107769424 0.5278810408921933\n",
      "[1 0 0 ... 1 0 1]\n",
      "0.4 0.48722044728434505 0.7644110275689223 0.5951219512195123\n",
      "[1 0 0 ... 1 0 0]\n",
      "0.5 0.5787037037037037 0.6265664160401002 0.601684717208183\n",
      "[1 0 0 ... 0 0 0]\n",
      "0.6000000000000001 0.6737588652482269 0.47619047619047616 0.5580029368575625\n",
      "[1 0 0 ... 0 0 0]\n",
      "0.7000000000000001 0.7692307692307693 0.37593984962406013 0.5050505050505051\n",
      "[1 0 0 ... 0 0 0]\n",
      "0.8 0.8625 0.17293233082706766 0.28810020876826725\n",
      "[1 0 0 ... 0 0 0]\n",
      "0.9 1.0 0.012531328320802004 0.024752475247524754\n"
     ]
    }
   ],
   "source": [
    "random_forest_model = RandomForestClassifier(random_state=12345, n_estimators=100,\n",
    "                                                      max_depth=6)\n",
    "random_forest_model.fit(features_upsampled, target_upsampled)\n",
    "probabilities_valid = random_forest_model.predict_proba(features_valid)\n",
    "probabilities_one_valid = probabilities_valid[:, 1]\n",
    "\n",
    "print(probabilities_one_valid)\n",
    "print('---')\n",
    "\n",
    "for threshold in np.arange(0, 1, 0.1):\n",
    "    predicted_valid = probabilities_one_valid > threshold \n",
    "    precision = precision_score(target_valid, predicted_valid) \n",
    "    recall = recall_score(target_valid, predicted_valid) \n",
    "    F_1 = f1_score(target_valid, predicted_valid)\n",
    "    \n",
    "    print(predicted_valid * 1)\n",
    "    \n",
    "    \n",
    "\n",
    "    print(threshold, precision, recall, F_1)"
   ]
  },
  {
   "cell_type": "code",
   "execution_count": null,
   "metadata": {},
   "outputs": [],
   "source": []
  },
  {
   "cell_type": "code",
   "execution_count": 47,
   "metadata": {},
   "outputs": [
    {
     "name": "stdout",
     "output_type": "stream",
     "text": [
      "0.8462806063785256\n"
     ]
    }
   ],
   "source": [
    "auc_roc = roc_auc_score(target_valid, probabilities_one_valid)\n",
    "\n",
    "print(auc_roc)"
   ]
  },
  {
   "cell_type": "markdown",
   "metadata": {},
   "source": [
    "**Логистическая регрессия**"
   ]
  },
  {
   "cell_type": "code",
   "execution_count": 48,
   "metadata": {
    "scrolled": true
   },
   "outputs": [
    {
     "name": "stdout",
     "output_type": "stream",
     "text": [
      "0.0 0.21947194719471946 1.0 0.35994587280108253\n",
      "0.1 0.23207990599294948 0.9899749373433584 0.376011423131842\n",
      "0.2 0.2729948491537896 0.9298245614035088 0.4220705346985211\n",
      "0.30000000000000004 0.3251953125 0.8345864661654135 0.46802529866479264\n",
      "0.4 0.3783068783068783 0.7167919799498746 0.49523809523809526\n",
      "0.5 0.433852140077821 0.5588972431077694 0.4884994523548741\n",
      "0.6000000000000001 0.4891304347826087 0.45112781954887216 0.46936114732724904\n",
      "0.7000000000000001 0.5209302325581395 0.2807017543859649 0.36482084690553745\n",
      "0.8 0.5779816513761468 0.15789473684210525 0.24803149606299216\n",
      "0.9 0.5 0.022556390977443608 0.04316546762589928\n"
     ]
    }
   ],
   "source": [
    "logistic_regression_model = LogisticRegression(random_state=12345, solver='liblinear')\n",
    "\n",
    "logistic_regression_model.fit(features_upsampled, target_upsampled)\n",
    "probabilities_valid = logistic_regression_model.predict_proba(features_valid)\n",
    "probabilities_one_valid = probabilities_valid[:, 1]\n",
    "\n",
    "for threshold in np.arange(0, 1, 0.1):\n",
    "    predicted_valid = probabilities_one_valid > threshold \n",
    "    precision = precision_score(target_valid, predicted_valid) \n",
    "    recall = recall_score(target_valid, predicted_valid) \n",
    "    F_1 = f1_score(target_valid, predicted_valid)\n",
    "    print(threshold, precision, recall, F_1)"
   ]
  },
  {
   "cell_type": "code",
   "execution_count": 49,
   "metadata": {
    "scrolled": true
   },
   "outputs": [
    {
     "name": "stdout",
     "output_type": "stream",
     "text": [
      "0.7549652849530449\n"
     ]
    }
   ],
   "source": [
    "auc_roc = roc_auc_score(target_valid, probabilities_one_valid)\n",
    "\n",
    "print(auc_roc)"
   ]
  },
  {
   "cell_type": "markdown",
   "metadata": {},
   "source": [
    "Изменение порога не приблизило нас к целевому показателю качества ни с одной моделью. "
   ]
  },
  {
   "cell_type": "markdown",
   "metadata": {},
   "source": [
    "Из 3 методов борьбы с дисбалансом лучшие результаты показали такие способы, как взвешивание классов и увеличение выборки, они позволили достичь F-1 0.6. "
   ]
  },
  {
   "cell_type": "markdown",
   "metadata": {},
   "source": [
    "<div class=\"alert alert-warning\">\n",
    "<h2>Комментарий ревьюера<a class=\"tocSkip\"></a></h2>\n",
    "    \n",
    "**Есть совет** ⚠️: все окей, но для наглядности не хватает таблички с результатами, где будет название модели, примененный способ борьбы с дисбалансом, лучшие гиперпараметры и значения метрик F1 и ROC-AUC</div>"
   ]
  },
  {
   "cell_type": "markdown",
   "metadata": {},
   "source": [
    "<div class=\"alert alert-info\">\n",
    "    <b>Комментарий студента:</b>  ок, можно я пока отправлю проект без таблицы, сделаю ее пока ты будешь отвечать на вопросы выше"
   ]
  },
  {
   "cell_type": "markdown",
   "metadata": {},
   "source": [
    "<div class=\"alert alert-success\">\n",
    "<h2>Комментарий ревьюера v2<a class=\"tocSkip\"></a></h2>\n",
    "    \n",
    "**Отлично!** ✔️: хорошо, тогда можно попробовать составить ее автоматически: cамый простой вариант — это создать новый датафрейм перед обучением модели и написать функцию, которая будет добавлять в него указанные параметры. Получить название модели можно, например, так: `type(model).__name__` а гиперпараметры модели методом `get_params()`. Метрики ты уже считаешь, так что вручную останется передавать в эту функцию только название метода борьбы с дисбалансом\n",
    "</div>"
   ]
  },
  {
   "cell_type": "markdown",
   "metadata": {},
   "source": [
    "## Тестирование модели"
   ]
  },
  {
   "cell_type": "markdown",
   "metadata": {},
   "source": [
    "Лучшие результаты показала нам модель случайного леса. Сделаем финальное тестирование с взвешиванием классов и увеличением выборки по отдельности. "
   ]
  },
  {
   "cell_type": "markdown",
   "metadata": {},
   "source": [
    "**Взвешивание классов**"
   ]
  },
  {
   "cell_type": "code",
   "execution_count": 50,
   "metadata": {},
   "outputs": [
    {
     "name": "stdout",
     "output_type": "stream",
     "text": [
      "F1: 0.6021505376344087\n"
     ]
    }
   ],
   "source": [
    "random_forest_model = RandomForestClassifier(random_state=12345, n_estimators=100,\n",
    "                                                      max_depth=9, class_weight='balanced')\n",
    "random_forest_model.fit(features_train, target_train)\n",
    "predicted_valid = random_forest_model.predict(features_test)\n",
    "print(\"F1:\", f1_score(target_test, predicted_valid)) "
   ]
  },
  {
   "cell_type": "markdown",
   "metadata": {},
   "source": [
    "<div class=\"alert alert-success\">\n",
    "<h2>Комментарий ревьюера<a class=\"tocSkip\"></a></h2>\n",
    "    \n",
    "**Отлично!** ✔️: бейзлайн побит, ура!</div>"
   ]
  },
  {
   "cell_type": "code",
   "execution_count": 51,
   "metadata": {},
   "outputs": [
    {
     "name": "stdout",
     "output_type": "stream",
     "text": [
      "0.8479638136920878\n"
     ]
    }
   ],
   "source": [
    "probabilities_valid = random_forest_model.predict_proba(features_valid)\n",
    "probabilities_one_valid = probabilities_valid[:, 1]\n",
    "\n",
    "auc_roc = roc_auc_score(target_valid, probabilities_one_valid)\n",
    "\n",
    "print(auc_roc)"
   ]
  },
  {
   "cell_type": "markdown",
   "metadata": {},
   "source": [
    "**Увеличение выборки**"
   ]
  },
  {
   "cell_type": "code",
   "execution_count": 52,
   "metadata": {},
   "outputs": [
    {
     "name": "stdout",
     "output_type": "stream",
     "text": [
      "F1: 0.6035665294924554\n"
     ]
    }
   ],
   "source": [
    "random_forest_model = RandomForestClassifier(random_state=12345, n_estimators=100,\n",
    "                                                      max_depth=9)\n",
    "random_forest_model.fit(features_upsampled, target_upsampled)\n",
    "predicted_valid = random_forest_model.predict(features_test)\n",
    "print(\"F1:\", f1_score(target_test, predicted_valid)) "
   ]
  },
  {
   "cell_type": "code",
   "execution_count": 53,
   "metadata": {},
   "outputs": [
    {
     "name": "stdout",
     "output_type": "stream",
     "text": [
      "0.853184758937513\n"
     ]
    }
   ],
   "source": [
    "probabilities_valid = random_forest_model.predict_proba(features_valid)\n",
    "probabilities_one_valid = probabilities_valid[:, 1]\n",
    "\n",
    "auc_roc = roc_auc_score(target_valid, probabilities_one_valid)\n",
    "\n",
    "print(auc_roc)"
   ]
  },
  {
   "cell_type": "markdown",
   "metadata": {},
   "source": [
    "Победитель - модель случайного леса с количеством деревьев 100, глубиной 9. Целевого показателя качества помогает достичь взвешивание классов, показатель AUC-ROC = 0.847, что на 0.347 лучше, чем предсказания случайной модели."
   ]
  },
  {
   "cell_type": "markdown",
   "metadata": {},
   "source": [
    "**Заключение**\n"
   ]
  },
  {
   "cell_type": "markdown",
   "metadata": {},
   "source": [
    "Перед тем, как построить модель, которая прогнозирует отток клиентов, была проделана работа по подготовке данных. 1) Удалены ненужные строки, которые могут ввести в заблуждение модель. 2) Категориальные столбцы переведены в числовые методом прямого кодирования, так как модели умеют работать только с числовыми значениями. 3) Числовые столбцы тоже изменены – приведены к одному масштабу, это делается для того, чтобы модель не посчитала одни категории данных более приоритетными, чем другие. Все данные разделены на 3 части, 60% использовались для обучения, 20% - для валидации и проверки методов устранения дисбаланса классов, 20% - для финального тестирования на работоспособность модели. \n",
    "\n",
    "\n",
    "Выяснилось, что в данных есть сильный перекос в сторону негативных ответов. То есть клиентов, отказавшихся от сотрудничества банка, в 4 раза меньше, чем тех, кто не отказался. Для того, чтобы модели обучились равномерно и могли адекватно предсказывать как положительные, так и отрицательные ответы, было применено взвешивание классов и увеличение выборки положительных ответов. Таким образом, выяснилось, что лучшая модель для нашей задачи – это модель случайного леса со следующими гиперпараметрами: глубина – 9, количество деревьев – 100. С такими данными удалось достичь F-1 равной 0.6, а AUC-ROC = 0.847, что на 0.347 лучше, чем предсказания случайной модели.\n",
    "\n"
   ]
  },
  {
   "cell_type": "markdown",
   "metadata": {},
   "source": [
    "<div style=\"padding: 20px 25px; border: 2px #6495ed solid\">\n",
    "    \n",
    "<h2 style=\"color: #87187D\">Итоговый комментарий ревьюера<a class=\"tocSkip\"></a></h2>\n",
    "\n",
    "Чистый и структурированный проект, спасибо, такие всегда приятно проверять!\n",
    "\n",
    "Осталось убедиться, что проект целиком запускается в окружении Практикума, и я смогу принять твою работу\n",
    "    \n",
    "Остальные комментарии можно найти в проекте. Готов ответить на любые вопросы :)\n",
    "\n",
    "<b>Жду доработанный проект на повторное ревью! Удачи!</b>\n",
    "        \n",
    "</div>"
   ]
  },
  {
   "cell_type": "markdown",
   "metadata": {},
   "source": [
    "<div style=\"padding: 20px 25px; border: 2px #6495ed solid\">\n",
    "    \n",
    "<h2 style=\"color: #87187D\">Итоговый комментарий ревьюера v2<a class=\"tocSkip\"></a></h2>\n",
    "\n",
    "То, что нужно, молодец!\n",
    "\n",
    "Критичное замечание исправлено, и теперь я могу принять твою работу :)\n",
    "\n",
    "<b>Успехов в обучении!</b>\n",
    "        \n",
    "</div>"
   ]
  },
  {
   "cell_type": "markdown",
   "metadata": {},
   "source": [
    "## Чек-лист готовности проекта"
   ]
  },
  {
   "cell_type": "markdown",
   "metadata": {},
   "source": [
    "Поставьте 'x' в выполненных пунктах. Далее нажмите Shift+Enter."
   ]
  },
  {
   "cell_type": "markdown",
   "metadata": {},
   "source": [
    "- [x]  Jupyter Notebook открыт\n",
    "- [ ]  Весь код выполняется без ошибок\n",
    "- [ ]  Ячейки с кодом расположены в порядке исполнения\n",
    "- [ ]  Выполнен шаг 1: данные подготовлены\n",
    "- [ ]  Выполнен шаг 2: задача исследована\n",
    "    - [ ]  Исследован баланс классов\n",
    "    - [ ]  Изучены модели без учёта дисбаланса\n",
    "    - [ ]  Написаны выводы по результатам исследования\n",
    "- [ ]  Выполнен шаг 3: учтён дисбаланс\n",
    "    - [ ]  Применено несколько способов борьбы с дисбалансом\n",
    "    - [ ]  Написаны выводы по результатам исследования\n",
    "- [ ]  Выполнен шаг 4: проведено тестирование\n",
    "- [ ]  Удалось достичь *F1*-меры не менее 0.59\n",
    "- [ ]  Исследована метрика *AUC-ROC*"
   ]
  },
  {
   "cell_type": "code",
   "execution_count": null,
   "metadata": {},
   "outputs": [],
   "source": []
  }
 ],
 "metadata": {
  "ExecuteTimeLog": [
   {
    "duration": 1384,
    "start_time": "2023-02-25T10:35:08.133Z"
   },
   {
    "duration": 132,
    "start_time": "2023-02-25T10:35:09.519Z"
   },
   {
    "duration": 0,
    "start_time": "2023-02-25T10:35:09.656Z"
   },
   {
    "duration": 0,
    "start_time": "2023-02-25T10:35:09.658Z"
   },
   {
    "duration": 0,
    "start_time": "2023-02-25T10:35:09.660Z"
   },
   {
    "duration": 0,
    "start_time": "2023-02-25T10:35:09.662Z"
   },
   {
    "duration": 0,
    "start_time": "2023-02-25T10:35:09.663Z"
   },
   {
    "duration": 0,
    "start_time": "2023-02-25T10:35:09.665Z"
   },
   {
    "duration": 0,
    "start_time": "2023-02-25T10:35:09.667Z"
   },
   {
    "duration": 0,
    "start_time": "2023-02-25T10:35:09.668Z"
   },
   {
    "duration": 0,
    "start_time": "2023-02-25T10:35:09.670Z"
   },
   {
    "duration": 0,
    "start_time": "2023-02-25T10:35:09.671Z"
   },
   {
    "duration": 0,
    "start_time": "2023-02-25T10:35:09.672Z"
   },
   {
    "duration": 0,
    "start_time": "2023-02-25T10:35:09.673Z"
   },
   {
    "duration": 0,
    "start_time": "2023-02-25T10:35:09.674Z"
   },
   {
    "duration": 0,
    "start_time": "2023-02-25T10:35:09.675Z"
   },
   {
    "duration": 0,
    "start_time": "2023-02-25T10:35:09.676Z"
   },
   {
    "duration": 0,
    "start_time": "2023-02-25T10:35:09.676Z"
   },
   {
    "duration": 0,
    "start_time": "2023-02-25T10:35:09.677Z"
   },
   {
    "duration": 0,
    "start_time": "2023-02-25T10:35:09.678Z"
   },
   {
    "duration": 0,
    "start_time": "2023-02-25T10:35:09.679Z"
   },
   {
    "duration": 0,
    "start_time": "2023-02-25T10:35:09.680Z"
   },
   {
    "duration": 0,
    "start_time": "2023-02-25T10:35:09.681Z"
   },
   {
    "duration": 0,
    "start_time": "2023-02-25T10:35:09.682Z"
   },
   {
    "duration": 0,
    "start_time": "2023-02-25T10:35:09.682Z"
   },
   {
    "duration": 0,
    "start_time": "2023-02-25T10:35:09.683Z"
   },
   {
    "duration": 0,
    "start_time": "2023-02-25T10:35:09.684Z"
   },
   {
    "duration": 0,
    "start_time": "2023-02-25T10:35:09.685Z"
   },
   {
    "duration": 0,
    "start_time": "2023-02-25T10:35:09.686Z"
   },
   {
    "duration": 0,
    "start_time": "2023-02-25T10:35:09.687Z"
   },
   {
    "duration": 0,
    "start_time": "2023-02-25T10:35:09.687Z"
   },
   {
    "duration": 0,
    "start_time": "2023-02-25T10:35:09.688Z"
   },
   {
    "duration": 0,
    "start_time": "2023-02-25T10:35:09.689Z"
   },
   {
    "duration": 0,
    "start_time": "2023-02-25T10:35:09.690Z"
   },
   {
    "duration": 0,
    "start_time": "2023-02-25T10:35:09.691Z"
   },
   {
    "duration": 0,
    "start_time": "2023-02-25T10:35:09.754Z"
   },
   {
    "duration": 0,
    "start_time": "2023-02-25T10:35:09.755Z"
   },
   {
    "duration": 0,
    "start_time": "2023-02-25T10:35:09.756Z"
   },
   {
    "duration": 0,
    "start_time": "2023-02-25T10:35:09.757Z"
   },
   {
    "duration": 0,
    "start_time": "2023-02-25T10:35:09.759Z"
   },
   {
    "duration": 0,
    "start_time": "2023-02-25T10:35:09.760Z"
   },
   {
    "duration": 0,
    "start_time": "2023-02-25T10:35:09.761Z"
   },
   {
    "duration": 0,
    "start_time": "2023-02-25T10:35:09.762Z"
   },
   {
    "duration": 0,
    "start_time": "2023-02-25T10:35:09.764Z"
   },
   {
    "duration": 0,
    "start_time": "2023-02-25T10:35:09.766Z"
   },
   {
    "duration": 0,
    "start_time": "2023-02-25T10:35:09.767Z"
   },
   {
    "duration": 0,
    "start_time": "2023-02-25T10:35:09.768Z"
   },
   {
    "duration": 0,
    "start_time": "2023-02-25T10:35:09.769Z"
   },
   {
    "duration": 0,
    "start_time": "2023-02-25T10:35:09.771Z"
   },
   {
    "duration": 1119,
    "start_time": "2023-02-25T20:17:33.584Z"
   },
   {
    "duration": 163,
    "start_time": "2023-02-25T20:17:37.952Z"
   },
   {
    "duration": 19,
    "start_time": "2023-02-25T20:17:51.343Z"
   },
   {
    "duration": 54,
    "start_time": "2023-02-25T20:18:34.051Z"
   },
   {
    "duration": 39,
    "start_time": "2023-02-25T20:18:47.028Z"
   },
   {
    "duration": 105,
    "start_time": "2023-02-25T20:27:41.003Z"
   },
   {
    "duration": 435,
    "start_time": "2023-02-25T20:27:56.903Z"
   },
   {
    "duration": 973,
    "start_time": "2023-02-25T20:28:15.407Z"
   },
   {
    "duration": 970,
    "start_time": "2023-02-25T20:31:47.169Z"
   },
   {
    "duration": 1021,
    "start_time": "2023-02-25T20:32:01.892Z"
   },
   {
    "duration": 1043,
    "start_time": "2023-02-25T20:32:45.889Z"
   },
   {
    "duration": 1034,
    "start_time": "2023-02-25T20:33:19.866Z"
   },
   {
    "duration": 40,
    "start_time": "2023-02-25T20:34:31.188Z"
   },
   {
    "duration": 1015,
    "start_time": "2023-02-25T20:34:37.773Z"
   },
   {
    "duration": 962,
    "start_time": "2023-02-25T20:34:53.147Z"
   },
   {
    "duration": 12,
    "start_time": "2023-02-25T20:40:36.726Z"
   },
   {
    "duration": 28,
    "start_time": "2023-02-25T20:53:33.701Z"
   },
   {
    "duration": 110,
    "start_time": "2023-02-25T20:53:40.007Z"
   },
   {
    "duration": 33,
    "start_time": "2023-02-25T20:54:03.775Z"
   },
   {
    "duration": 4,
    "start_time": "2023-02-25T21:18:28.895Z"
   },
   {
    "duration": 4,
    "start_time": "2023-02-25T21:18:44.266Z"
   },
   {
    "duration": 770,
    "start_time": "2023-02-25T21:19:37.558Z"
   },
   {
    "duration": 214,
    "start_time": "2023-02-25T21:19:58.496Z"
   },
   {
    "duration": 39545,
    "start_time": "2023-02-25T21:25:17.482Z"
   },
   {
    "duration": 19,
    "start_time": "2023-02-25T21:31:57.579Z"
   },
   {
    "duration": 14,
    "start_time": "2023-02-25T21:32:37.186Z"
   },
   {
    "duration": 1123,
    "start_time": "2023-02-25T21:32:47.792Z"
   },
   {
    "duration": 3,
    "start_time": "2023-02-25T21:38:00.927Z"
   },
   {
    "duration": 46,
    "start_time": "2023-02-25T21:38:53.900Z"
   },
   {
    "duration": 6,
    "start_time": "2023-02-25T21:39:09.258Z"
   },
   {
    "duration": 1321,
    "start_time": "2023-02-25T21:39:17.318Z"
   },
   {
    "duration": 155,
    "start_time": "2023-02-25T21:39:20.307Z"
   },
   {
    "duration": 8,
    "start_time": "2023-02-25T21:39:33.442Z"
   },
   {
    "duration": 10,
    "start_time": "2023-02-25T21:39:39.836Z"
   },
   {
    "duration": 13,
    "start_time": "2023-02-25T21:39:43.771Z"
   },
   {
    "duration": 36,
    "start_time": "2023-02-25T21:39:51.862Z"
   },
   {
    "duration": 7,
    "start_time": "2023-02-25T21:39:59.032Z"
   },
   {
    "duration": 28,
    "start_time": "2023-02-25T21:40:03.049Z"
   },
   {
    "duration": 137,
    "start_time": "2023-02-25T21:40:08.090Z"
   },
   {
    "duration": 135,
    "start_time": "2023-02-25T21:42:26.647Z"
   },
   {
    "duration": 130,
    "start_time": "2023-02-25T21:42:34.406Z"
   },
   {
    "duration": 129357,
    "start_time": "2023-02-25T21:50:43.888Z"
   },
   {
    "duration": 203,
    "start_time": "2023-02-25T21:56:49.011Z"
   },
   {
    "duration": 119,
    "start_time": "2023-02-25T21:57:05.976Z"
   },
   {
    "duration": 26798,
    "start_time": "2023-02-25T22:04:01.801Z"
   },
   {
    "duration": 11,
    "start_time": "2023-02-25T22:06:43.295Z"
   },
   {
    "duration": 1065,
    "start_time": "2023-02-25T22:09:30.953Z"
   },
   {
    "duration": 11,
    "start_time": "2023-02-25T22:09:40.993Z"
   },
   {
    "duration": 21,
    "start_time": "2023-02-25T22:10:18.864Z"
   },
   {
    "duration": 13,
    "start_time": "2023-02-25T22:11:05.924Z"
   },
   {
    "duration": 6,
    "start_time": "2023-02-25T22:12:38.228Z"
   },
   {
    "duration": 54,
    "start_time": "2023-02-25T22:13:46.754Z"
   },
   {
    "duration": 45,
    "start_time": "2023-02-25T22:14:20.892Z"
   },
   {
    "duration": 67,
    "start_time": "2023-02-25T22:14:56.915Z"
   },
   {
    "duration": 6,
    "start_time": "2023-02-25T22:15:12.174Z"
   },
   {
    "duration": 509,
    "start_time": "2023-02-25T22:15:19.756Z"
   },
   {
    "duration": 5,
    "start_time": "2023-02-25T22:15:31.227Z"
   },
   {
    "duration": 215,
    "start_time": "2023-02-25T22:15:44.216Z"
   },
   {
    "duration": 1816,
    "start_time": "2023-02-26T09:37:02.641Z"
   },
   {
    "duration": 82,
    "start_time": "2023-02-26T09:37:04.459Z"
   },
   {
    "duration": 17,
    "start_time": "2023-02-26T09:37:04.543Z"
   },
   {
    "duration": 18,
    "start_time": "2023-02-26T09:37:04.562Z"
   },
   {
    "duration": 6,
    "start_time": "2023-02-26T09:37:04.582Z"
   },
   {
    "duration": 15,
    "start_time": "2023-02-26T09:37:04.589Z"
   },
   {
    "duration": 5,
    "start_time": "2023-02-26T09:37:04.606Z"
   },
   {
    "duration": 11,
    "start_time": "2023-02-26T09:37:04.612Z"
   },
   {
    "duration": 6,
    "start_time": "2023-02-26T09:37:04.624Z"
   },
   {
    "duration": 1156,
    "start_time": "2023-02-26T09:37:04.633Z"
   },
   {
    "duration": 8,
    "start_time": "2023-02-26T09:37:05.790Z"
   },
   {
    "duration": 6,
    "start_time": "2023-02-26T09:37:05.799Z"
   },
   {
    "duration": 10,
    "start_time": "2023-02-26T09:37:05.806Z"
   },
   {
    "duration": 16,
    "start_time": "2023-02-26T09:37:05.818Z"
   },
   {
    "duration": 28,
    "start_time": "2023-02-26T09:37:05.835Z"
   },
   {
    "duration": 39,
    "start_time": "2023-02-26T09:37:05.865Z"
   },
   {
    "duration": 30,
    "start_time": "2023-02-26T09:37:05.906Z"
   },
   {
    "duration": 7,
    "start_time": "2023-02-26T09:37:05.938Z"
   },
   {
    "duration": 56,
    "start_time": "2023-02-26T09:37:05.947Z"
   },
   {
    "duration": 10,
    "start_time": "2023-02-26T09:37:06.005Z"
   },
   {
    "duration": 8,
    "start_time": "2023-02-26T09:37:06.017Z"
   },
   {
    "duration": 162,
    "start_time": "2023-02-26T09:37:06.027Z"
   },
   {
    "duration": 29177,
    "start_time": "2023-02-26T09:37:06.191Z"
   },
   {
    "duration": 120,
    "start_time": "2023-02-26T09:37:35.369Z"
   },
   {
    "duration": 12,
    "start_time": "2023-02-26T09:37:35.491Z"
   },
   {
    "duration": 54805,
    "start_time": "2023-02-26T09:37:35.505Z"
   },
   {
    "duration": 51,
    "start_time": "2023-02-26T09:38:30.312Z"
   },
   {
    "duration": 228,
    "start_time": "2023-02-26T09:38:30.366Z"
   },
   {
    "duration": 10,
    "start_time": "2023-02-26T09:38:30.595Z"
   },
   {
    "duration": 306,
    "start_time": "2023-02-26T09:38:30.607Z"
   },
   {
    "duration": 8,
    "start_time": "2023-02-26T09:38:30.914Z"
   },
   {
    "duration": 54993,
    "start_time": "2023-02-26T09:38:30.925Z"
   },
   {
    "duration": 52,
    "start_time": "2023-02-26T09:39:25.920Z"
   },
   {
    "duration": 254,
    "start_time": "2023-02-26T09:39:25.973Z"
   },
   {
    "duration": 10,
    "start_time": "2023-02-26T09:39:26.229Z"
   },
   {
    "duration": 171,
    "start_time": "2023-02-26T09:39:26.241Z"
   },
   {
    "duration": 6,
    "start_time": "2023-02-26T09:39:26.414Z"
   },
   {
    "duration": 27,
    "start_time": "2023-02-26T09:39:26.422Z"
   },
   {
    "duration": 9,
    "start_time": "2023-02-26T09:39:26.451Z"
   },
   {
    "duration": 496,
    "start_time": "2023-02-26T09:39:26.461Z"
   },
   {
    "duration": 46,
    "start_time": "2023-02-26T09:39:26.958Z"
   },
   {
    "duration": 24,
    "start_time": "2023-02-26T09:39:27.006Z"
   },
   {
    "duration": 101,
    "start_time": "2023-02-26T09:39:27.102Z"
   },
   {
    "duration": 167,
    "start_time": "2023-02-26T09:39:27.205Z"
   },
   {
    "duration": 6,
    "start_time": "2023-02-26T09:39:27.374Z"
   },
   {
    "duration": 549,
    "start_time": "2023-02-26T09:39:27.381Z"
   },
   {
    "duration": 6,
    "start_time": "2023-02-26T09:39:27.932Z"
   },
   {
    "duration": 193,
    "start_time": "2023-02-26T09:39:27.939Z"
   },
   {
    "duration": 5,
    "start_time": "2023-02-26T09:39:28.134Z"
   },
   {
    "duration": 505,
    "start_time": "2023-02-26T09:39:28.141Z"
   },
   {
    "duration": 57,
    "start_time": "2023-02-26T09:39:28.648Z"
   },
   {
    "duration": 608,
    "start_time": "2023-02-26T09:39:28.707Z"
   },
   {
    "duration": 41,
    "start_time": "2023-02-26T09:39:29.317Z"
   },
   {
    "duration": 48,
    "start_time": "2023-02-26T18:40:36.133Z"
   },
   {
    "duration": 1593,
    "start_time": "2023-02-26T18:54:52.855Z"
   },
   {
    "duration": 174,
    "start_time": "2023-02-26T18:54:54.451Z"
   },
   {
    "duration": 18,
    "start_time": "2023-02-26T18:54:54.630Z"
   },
   {
    "duration": 15,
    "start_time": "2023-02-26T18:54:54.650Z"
   },
   {
    "duration": 6,
    "start_time": "2023-02-26T18:54:54.667Z"
   },
   {
    "duration": 11,
    "start_time": "2023-02-26T18:54:54.675Z"
   },
   {
    "duration": 13,
    "start_time": "2023-02-26T18:54:54.688Z"
   },
   {
    "duration": 22,
    "start_time": "2023-02-26T18:54:54.703Z"
   },
   {
    "duration": 6,
    "start_time": "2023-02-26T18:54:54.727Z"
   },
   {
    "duration": 1261,
    "start_time": "2023-02-26T18:54:54.735Z"
   },
   {
    "duration": 8,
    "start_time": "2023-02-26T18:54:55.998Z"
   },
   {
    "duration": 15,
    "start_time": "2023-02-26T18:54:56.008Z"
   },
   {
    "duration": 10,
    "start_time": "2023-02-26T18:54:56.025Z"
   },
   {
    "duration": 36,
    "start_time": "2023-02-26T18:54:56.038Z"
   },
   {
    "duration": 29,
    "start_time": "2023-02-26T18:54:56.076Z"
   },
   {
    "duration": 24,
    "start_time": "2023-02-26T18:54:56.107Z"
   },
   {
    "duration": 30,
    "start_time": "2023-02-26T18:54:56.132Z"
   },
   {
    "duration": 7,
    "start_time": "2023-02-26T18:54:56.164Z"
   },
   {
    "duration": 59,
    "start_time": "2023-02-26T18:54:56.172Z"
   },
   {
    "duration": 7,
    "start_time": "2023-02-26T18:54:56.233Z"
   },
   {
    "duration": 9,
    "start_time": "2023-02-26T18:54:56.242Z"
   },
   {
    "duration": 170,
    "start_time": "2023-02-26T18:54:56.254Z"
   },
   {
    "duration": 27783,
    "start_time": "2023-02-26T18:54:56.426Z"
   },
   {
    "duration": 130,
    "start_time": "2023-02-26T18:55:24.211Z"
   },
   {
    "duration": 8,
    "start_time": "2023-02-26T18:55:24.343Z"
   },
   {
    "duration": 56882,
    "start_time": "2023-02-26T18:55:24.353Z"
   },
   {
    "duration": 53,
    "start_time": "2023-02-26T18:56:21.237Z"
   },
   {
    "duration": 251,
    "start_time": "2023-02-26T18:56:21.292Z"
   },
   {
    "duration": 14,
    "start_time": "2023-02-26T18:56:21.545Z"
   },
   {
    "duration": 237,
    "start_time": "2023-02-26T18:56:21.622Z"
   },
   {
    "duration": 8,
    "start_time": "2023-02-26T18:56:21.861Z"
   },
   {
    "duration": 57311,
    "start_time": "2023-02-26T18:56:21.871Z"
   },
   {
    "duration": 58,
    "start_time": "2023-02-26T18:57:19.183Z"
   },
   {
    "duration": 182,
    "start_time": "2023-02-26T18:57:19.242Z"
   },
   {
    "duration": 11,
    "start_time": "2023-02-26T18:57:19.425Z"
   },
   {
    "duration": 180,
    "start_time": "2023-02-26T18:57:19.440Z"
   },
   {
    "duration": 5,
    "start_time": "2023-02-26T18:57:19.623Z"
   },
   {
    "duration": 26,
    "start_time": "2023-02-26T18:57:19.630Z"
   },
   {
    "duration": 7,
    "start_time": "2023-02-26T18:57:19.657Z"
   },
   {
    "duration": 490,
    "start_time": "2023-02-26T18:57:19.665Z"
   },
   {
    "duration": 35,
    "start_time": "2023-02-26T18:57:20.159Z"
   },
   {
    "duration": 35,
    "start_time": "2023-02-26T18:57:20.195Z"
   },
   {
    "duration": 98,
    "start_time": "2023-02-26T18:57:20.233Z"
   },
   {
    "duration": 168,
    "start_time": "2023-02-26T18:57:20.423Z"
   },
   {
    "duration": 6,
    "start_time": "2023-02-26T18:57:20.592Z"
   },
   {
    "duration": 556,
    "start_time": "2023-02-26T18:57:20.600Z"
   },
   {
    "duration": 7,
    "start_time": "2023-02-26T18:57:21.158Z"
   },
   {
    "duration": 192,
    "start_time": "2023-02-26T18:57:21.166Z"
   },
   {
    "duration": 6,
    "start_time": "2023-02-26T18:57:21.360Z"
   },
   {
    "duration": 546,
    "start_time": "2023-02-26T18:57:21.367Z"
   },
   {
    "duration": 46,
    "start_time": "2023-02-26T18:57:21.914Z"
   },
   {
    "duration": 629,
    "start_time": "2023-02-26T18:57:21.962Z"
   },
   {
    "duration": 52,
    "start_time": "2023-02-26T18:57:22.593Z"
   },
   {
    "duration": 503,
    "start_time": "2023-02-26T19:06:06.814Z"
   },
   {
    "duration": 480,
    "start_time": "2023-02-26T19:06:13.430Z"
   },
   {
    "duration": 497,
    "start_time": "2023-02-26T19:06:50.810Z"
   },
   {
    "duration": 506,
    "start_time": "2023-02-26T19:07:00.771Z"
   }
  ],
  "kernelspec": {
   "display_name": "Python 3 (ipykernel)",
   "language": "python",
   "name": "python3"
  },
  "language_info": {
   "codemirror_mode": {
    "name": "ipython",
    "version": 3
   },
   "file_extension": ".py",
   "mimetype": "text/x-python",
   "name": "python",
   "nbconvert_exporter": "python",
   "pygments_lexer": "ipython3",
   "version": "3.9.15"
  },
  "toc": {
   "base_numbering": 1,
   "nav_menu": {},
   "number_sections": true,
   "sideBar": true,
   "skip_h1_title": true,
   "title_cell": "Содержание",
   "title_sidebar": "Contents",
   "toc_cell": true,
   "toc_position": {
    "height": "calc(100% - 180px)",
    "left": "10px",
    "top": "150px",
    "width": "165px"
   },
   "toc_section_display": true,
   "toc_window_display": true
  }
 },
 "nbformat": 4,
 "nbformat_minor": 2
}
